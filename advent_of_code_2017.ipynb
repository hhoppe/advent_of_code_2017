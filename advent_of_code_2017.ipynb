{
 "cells": [
  {
   "cell_type": "markdown",
   "id": "c239566e",
   "metadata": {},
   "source": [
    "<a href=\"https://colab.research.google.com/github/hhoppe/advent_of_code_2017/blob/main/advent_of_code_2017.ipynb\" target=\"_parent\"><img src=\"https://colab.research.google.com/assets/colab-badge.svg\" alt=\"Open In Colab\"/></a>"
   ]
  },
  {
   "cell_type": "markdown",
   "id": "f819c4f7",
   "metadata": {},
   "source": [
    "# Advent of code 2017\n",
    "\n",
    "[[**Open the notebook in Colab**]](https://colab.research.google.com/github/hhoppe/advent_of_code_2017/blob/main/advent_of_code_2017.ipynb)\n",
    "\n",
    "IPython/Jupyter [notebook](https://github.com/hhoppe/advent_of_code_2017/blob/main/advent_of_code_2017.ipynb) by [Hugues Hoppe](http://hhoppe.com/) with solutions to the [2017 Advent of Code puzzles](https://adventofcode.com/2017).\n",
    "Completed in November 2022.\n",
    "\n",
    "In this notebook, I explore both \"compact\" and \"fast\" code versions, along with data visualizations.\n",
    "\n",
    "I was able to speed up all the solutions such that the [cumulative time](#timings) across all 25 puzzles is about 2 s.\n",
    "(For some puzzles, I had to resort to the `numba` package to jit-compile Python functions.)\n",
    "\n",
    "Here are some visualization results:\n",
    "\n",
    "<a href=\"#day14\">day14</a><img src=\"https://github.com/hhoppe/advent_of_code_2017/raw/main/results/day14.png\" width=\"256\"> &emsp;\n",
    "<a href=\"#day22\">day22</a><img src=\"https://github.com/hhoppe/advent_of_code_2017/raw/main/results/day22.png\" width=\"335\">\n",
    "<br/>\n",
    "<a href=\"#day21\">day21</a><img src=\"https://github.com/hhoppe/advent_of_code_2017/raw/main/results/day21.png\" width=\"867\">"
   ]
  },
  {
   "cell_type": "markdown",
   "id": "3d759f1d",
   "metadata": {},
   "source": [
    "<a name=\"preamble\"></a>\n",
    "## Preamble"
   ]
  },
  {
   "cell_type": "code",
   "execution_count": 1,
   "id": "e8e1f153",
   "metadata": {
    "execution": {
     "iopub.execute_input": "2022-11-02T19:21:56.020235Z",
     "iopub.status.busy": "2022-11-02T19:21:56.020061Z",
     "iopub.status.idle": "2022-11-02T19:21:56.132492Z",
     "shell.execute_reply": "2022-11-02T19:21:56.131959Z",
     "shell.execute_reply.started": "2022-11-02T19:21:56.020186Z"
    },
    "tags": []
   },
   "outputs": [],
   "source": [
    "!command -v ffmpeg >/dev/null || (apt-get -qq update && apt-get -qq -y install ffmpeg) >/dev/null"
   ]
  },
  {
   "cell_type": "code",
   "execution_count": 2,
   "id": "aeee3349",
   "metadata": {
    "execution": {
     "iopub.execute_input": "2022-11-02T19:21:56.133541Z",
     "iopub.status.busy": "2022-11-02T19:21:56.133204Z",
     "iopub.status.idle": "2022-11-02T19:21:57.045228Z",
     "shell.execute_reply": "2022-11-02T19:21:57.044596Z",
     "shell.execute_reply.started": "2022-11-02T19:21:56.133521Z"
    },
    "tags": []
   },
   "outputs": [],
   "source": [
    "!pip install -q advent-of-code-hhoppe hhoppe-tools mediapy numba"
   ]
  },
  {
   "cell_type": "code",
   "execution_count": 3,
   "id": "b7672379",
   "metadata": {
    "execution": {
     "iopub.execute_input": "2022-11-02T19:21:57.046234Z",
     "iopub.status.busy": "2022-11-02T19:21:57.046045Z",
     "iopub.status.idle": "2022-11-02T19:21:57.414726Z",
     "shell.execute_reply": "2022-11-02T19:21:57.414155Z",
     "shell.execute_reply.started": "2022-11-02T19:21:57.046220Z"
    },
    "tags": []
   },
   "outputs": [],
   "source": [
    "from __future__ import annotations\n",
    "\n",
    "import collections\n",
    "from collections.abc import Iterator\n",
    "import dataclasses\n",
    "import functools\n",
    "import itertools\n",
    "import operator\n",
    "import re\n",
    "import textwrap\n",
    "from typing import Any\n",
    "\n",
    "import advent_of_code_hhoppe  # https://github.com/hhoppe/advent-of-code-hhoppe/blob/main/advent_of_code_hhoppe/__init__.py\n",
    "import hhoppe_tools as hh  # https://github.com/hhoppe/hhoppe-tools/blob/main/hhoppe_tools/__init__.py\n",
    "import mediapy as media\n",
    "import numpy as np"
   ]
  },
  {
   "cell_type": "code",
   "execution_count": 4,
   "id": "00c48f0e",
   "metadata": {
    "execution": {
     "iopub.execute_input": "2022-11-02T19:21:57.416218Z",
     "iopub.status.busy": "2022-11-02T19:21:57.415965Z",
     "iopub.status.idle": "2022-11-02T19:21:57.419566Z",
     "shell.execute_reply": "2022-11-02T19:21:57.418938Z",
     "shell.execute_reply.started": "2022-11-02T19:21:57.416204Z"
    },
    "tags": []
   },
   "outputs": [],
   "source": [
    "if not media.video_is_available():\n",
    "  media.show_videos = lambda *a, **kw: print('Creating video is unavailable.')"
   ]
  },
  {
   "cell_type": "code",
   "execution_count": 5,
   "id": "2c688fa5",
   "metadata": {
    "execution": {
     "iopub.execute_input": "2022-11-02T19:21:57.420335Z",
     "iopub.status.busy": "2022-11-02T19:21:57.420197Z",
     "iopub.status.idle": "2022-11-02T19:21:57.438360Z",
     "shell.execute_reply": "2022-11-02T19:21:57.437774Z",
     "shell.execute_reply.started": "2022-11-02T19:21:57.420324Z"
    },
    "tags": []
   },
   "outputs": [],
   "source": [
    "hh.start_timing_notebook_cells()"
   ]
  },
  {
   "cell_type": "code",
   "execution_count": 6,
   "id": "be91ac9d",
   "metadata": {
    "execution": {
     "iopub.execute_input": "2022-11-02T19:21:57.439695Z",
     "iopub.status.busy": "2022-11-02T19:21:57.439308Z",
     "iopub.status.idle": "2022-11-02T19:21:57.456146Z",
     "shell.execute_reply": "2022-11-02T19:21:57.455378Z",
     "shell.execute_reply.started": "2022-11-02T19:21:57.439674Z"
    },
    "tags": []
   },
   "outputs": [],
   "source": [
    "YEAR = 2017"
   ]
  },
  {
   "cell_type": "code",
   "execution_count": 7,
   "id": "ae4c212f",
   "metadata": {
    "execution": {
     "iopub.execute_input": "2022-11-02T19:21:57.457145Z",
     "iopub.status.busy": "2022-11-02T19:21:57.456860Z",
     "iopub.status.idle": "2022-11-02T19:21:57.474102Z",
     "shell.execute_reply": "2022-11-02T19:21:57.473504Z",
     "shell.execute_reply.started": "2022-11-02T19:21:57.457131Z"
    },
    "tags": []
   },
   "outputs": [],
   "source": [
    "# (1) To obtain puzzle inputs and answers, we first try these paths/URLs:\n",
    "PROFILE = 'github.hhoppe.1452460'\n",
    "# PROFILE = 'google.Hugues_Hoppe.965276'\n",
    "TAR_URL = f'https://github.com/hhoppe/advent_of_code_{YEAR}/raw/main/data/{PROFILE}.tar.gz'\n",
    "if 1:\n",
    "  hh.run(f\"if [ ! -d data/{PROFILE} ]; then (mkdir -p data && cd data &&\"\n",
    "         f\" wget -q {TAR_URL} && tar xzf {PROFILE}.tar.gz); fi\")\n",
    "INPUT_URL = f'data/{PROFILE}/{{year}}_{{day:02d}}_input.txt'\n",
    "ANSWER_URL = f'data/{PROFILE}/{{year}}_{{day:02d}}{{part_letter}}_answer.txt'"
   ]
  },
  {
   "cell_type": "code",
   "execution_count": 8,
   "id": "25548a6e",
   "metadata": {
    "execution": {
     "iopub.execute_input": "2022-11-02T19:21:57.475184Z",
     "iopub.status.busy": "2022-11-02T19:21:57.475031Z",
     "iopub.status.idle": "2022-11-02T19:21:57.490157Z",
     "shell.execute_reply": "2022-11-02T19:21:57.489559Z",
     "shell.execute_reply.started": "2022-11-02T19:21:57.475172Z"
    },
    "tags": []
   },
   "outputs": [],
   "source": [
    "# (2) If URL not found, we may try adventofcode.com using a session cookie:\n",
    "if 0:\n",
    "  # See https://github.com/wimglenn/advent-of-code-data.\n",
    "  hh.run('rm -f ~/.config/aocd/token*')\n",
    "  # Fill-in the session cookie in the following:\n",
    "  hh.run(f\"if [ '{PROFILE}' = 'github.hhoppe.1452460' ]; then mkdir -p ~/.config/aocd; echo 53616... >~/.config/aocd/token; fi\")\n",
    "  hh.run(f\"if [ '{PROFILE}' = 'google.Hugues_Hoppe.965276' ]; then mkdir -p ~/.config/aocd && echo 53616... >~/.config/aocd/token; fi\")\n",
    "  hh.run('pip install -q advent-of-code-data')\n",
    "  import aocd"
   ]
  },
  {
   "cell_type": "code",
   "execution_count": 9,
   "id": "996f23d3",
   "metadata": {
    "execution": {
     "iopub.execute_input": "2022-11-02T19:21:57.491060Z",
     "iopub.status.busy": "2022-11-02T19:21:57.490870Z",
     "iopub.status.idle": "2022-11-02T19:21:57.611444Z",
     "shell.execute_reply": "2022-11-02T19:21:57.610943Z",
     "shell.execute_reply.started": "2022-11-02T19:21:57.491047Z"
    },
    "tags": []
   },
   "outputs": [],
   "source": [
    "try:\n",
    "  import numba\n",
    "  numba_njit = numba.njit\n",
    "except ModuleNotFoundError:\n",
    "  print('Package numba is unavailable.')\n",
    "  numba_njit = hh.noop_decorator"
   ]
  },
  {
   "cell_type": "code",
   "execution_count": 10,
   "id": "122f5cf4",
   "metadata": {
    "execution": {
     "iopub.execute_input": "2022-11-02T19:21:57.612562Z",
     "iopub.status.busy": "2022-11-02T19:21:57.612078Z",
     "iopub.status.idle": "2022-11-02T19:21:57.614915Z",
     "shell.execute_reply": "2022-11-02T19:21:57.614429Z",
     "shell.execute_reply.started": "2022-11-02T19:21:57.612548Z"
    },
    "tags": []
   },
   "outputs": [],
   "source": [
    "advent = advent_of_code_hhoppe.Advent(\n",
    "    year=YEAR, input_url=INPUT_URL, answer_url=ANSWER_URL)"
   ]
  },
  {
   "cell_type": "code",
   "execution_count": 11,
   "id": "9e0deecd-8bc8-4f56-8760-0e271af6bb02",
   "metadata": {
    "execution": {
     "iopub.execute_input": "2022-11-02T19:21:57.616228Z",
     "iopub.status.busy": "2022-11-02T19:21:57.615873Z",
     "iopub.status.idle": "2022-11-02T19:21:57.636516Z",
     "shell.execute_reply": "2022-11-02T19:21:57.636055Z",
     "shell.execute_reply.started": "2022-11-02T19:21:57.616208Z"
    },
    "tags": []
   },
   "outputs": [
    {
     "data": {
      "text/html": [
       "<style>.jp-Cell.jp-MarkdownCell {max-width: 1016px!important;}</style>"
      ],
      "text/plain": [
       "<IPython.core.display.HTML object>"
      ]
     },
     "metadata": {},
     "output_type": "display_data"
    }
   ],
   "source": [
    "hh.adjust_jupyterlab_markdown_width()"
   ]
  },
  {
   "cell_type": "markdown",
   "id": "c6feaf6f",
   "metadata": {},
   "source": [
    "### Helper functions"
   ]
  },
  {
   "cell_type": "code",
   "execution_count": 12,
   "id": "df9e9548",
   "metadata": {
    "execution": {
     "iopub.execute_input": "2022-11-02T19:21:57.637613Z",
     "iopub.status.busy": "2022-11-02T19:21:57.637156Z",
     "iopub.status.idle": "2022-11-02T19:21:57.646522Z",
     "shell.execute_reply": "2022-11-02T19:21:57.646026Z",
     "shell.execute_reply.started": "2022-11-02T19:21:57.637600Z"
    },
    "tags": []
   },
   "outputs": [],
   "source": [
    "check_eq = hh.check_eq\n",
    "_ORIGINAL_GLOBALS = list(globals())"
   ]
  },
  {
   "cell_type": "markdown",
   "id": "6b28c473",
   "metadata": {},
   "source": [
    "<a name=\"day1\"></a>\n",
    "## Day 1: Digits in a circular list"
   ]
  },
  {
   "cell_type": "markdown",
   "id": "a03de689",
   "metadata": {},
   "source": [
    "- Part 1: Find the sum of all digits that match the next digit in the list.\n",
    "\n",
    "- Part 2: Instead of considering the next digit, consider the digit halfway around the circular list."
   ]
  },
  {
   "cell_type": "code",
   "execution_count": 13,
   "id": "4874099e",
   "metadata": {
    "execution": {
     "iopub.execute_input": "2022-11-02T19:21:57.648653Z",
     "iopub.status.busy": "2022-11-02T19:21:57.648422Z",
     "iopub.status.idle": "2022-11-02T19:21:57.675062Z",
     "shell.execute_reply": "2022-11-02T19:21:57.674449Z",
     "shell.execute_reply.started": "2022-11-02T19:21:57.648641Z"
    },
    "lines_to_next_cell": 1,
    "tags": []
   },
   "outputs": [
    {
     "data": {
      "text/markdown": [
       "For [day 1](https://adventofcode.com/2017/day/1), `puzzle.input` has a single line of 2_184 characters:"
      ],
      "text/plain": [
       "<IPython.core.display.Markdown object>"
      ]
     },
     "metadata": {},
     "output_type": "display_data"
    },
    {
     "name": "stdout",
     "output_type": "stream",
     "text": [
      "87893823215734275675425471658697512539486529734932123658657466299442989425982853 ... 62844329188218189254491238956497568\n"
     ]
    },
    {
     "data": {
      "text/markdown": [
       "The stored answers are: `{1: '1175', 2: '1166'}`"
      ],
      "text/plain": [
       "<IPython.core.display.Markdown object>"
      ]
     },
     "metadata": {},
     "output_type": "display_data"
    }
   ],
   "source": [
    "puzzle = advent.puzzle(day=1)"
   ]
  },
  {
   "cell_type": "code",
   "execution_count": 14,
   "id": "da9c9a7c",
   "metadata": {
    "execution": {
     "iopub.execute_input": "2022-11-02T19:21:57.675797Z",
     "iopub.status.busy": "2022-11-02T19:21:57.675651Z",
     "iopub.status.idle": "2022-11-02T19:21:57.686473Z",
     "shell.execute_reply": "2022-11-02T19:21:57.685913Z",
     "shell.execute_reply.started": "2022-11-02T19:21:57.675784Z"
    },
    "tags": []
   },
   "outputs": [
    {
     "name": "stdout",
     "output_type": "stream",
     "text": [
      "(Part 1: 0.000 s)\n",
      "(Part 2: 0.000 s)\n"
     ]
    }
   ],
   "source": [
    "def process1(s, part2=False):\n",
    "  digits = [int(ch) for ch in s.strip('\\n')]\n",
    "  total = 0\n",
    "  offset = len(digits) // 2 if part2 else 1\n",
    "  for d0, d1 in zip(digits, digits[offset:] + digits[:offset]):\n",
    "    if d0 == d1:\n",
    "      total += d0\n",
    "  return total\n",
    "\n",
    "check_eq(process1('1122'), 3)\n",
    "check_eq(process1('1111'), 4)\n",
    "check_eq(process1('1234'), 0)\n",
    "check_eq(process1('91212129'), 9)\n",
    "puzzle.verify(1, process1)\n",
    "\n",
    "process2 = functools.partial(process1, part2=True)\n",
    "check_eq(process2('1212'), 6)\n",
    "check_eq(process2('1221'), 0)\n",
    "check_eq(process2('123425'), 4)\n",
    "check_eq(process2('123123'), 12)\n",
    "check_eq(process2('12131415'), 4)\n",
    "puzzle.verify(2, process2)"
   ]
  },
  {
   "cell_type": "markdown",
   "id": "7efd4627-f7ec-4261-8723-63e34d20e7da",
   "metadata": {},
   "source": [
    "<a name=\"day2\"></a>\n",
    "## Day 2: Rows of numbers"
   ]
  },
  {
   "cell_type": "markdown",
   "id": "2aa3f410-a8ec-4130-a614-8cb407fb491f",
   "metadata": {},
   "source": [
    "- Part 1: Find sum of differences between largest and smallest value in each row.\n",
    "\n",
    "- Part 2: Find in each row the only 2 numbers where one evenly divides the other.  Sum the divisions."
   ]
  },
  {
   "cell_type": "code",
   "execution_count": 15,
   "id": "ec65cbc8-e0e6-4dda-b6fb-690f02b1ca32",
   "metadata": {
    "execution": {
     "iopub.execute_input": "2022-11-02T19:21:57.687509Z",
     "iopub.status.busy": "2022-11-02T19:21:57.687170Z",
     "iopub.status.idle": "2022-11-02T19:21:57.708255Z",
     "shell.execute_reply": "2022-11-02T19:21:57.707588Z",
     "shell.execute_reply.started": "2022-11-02T19:21:57.687495Z"
    },
    "tags": []
   },
   "outputs": [
    {
     "data": {
      "text/markdown": [
       "For [day 2](https://adventofcode.com/2017/day/2), `puzzle.input` has 16 lines:"
      ],
      "text/plain": [
       "<IPython.core.display.Markdown object>"
      ]
     },
     "metadata": {},
     "output_type": "display_data"
    },
    {
     "name": "stdout",
     "output_type": "stream",
     "text": [
      "1224\t926\t1380\t688\t845\t109\t118\t88\t1275\t1306\t91\t796\t102\t1361\t27\t995\n",
      "1928\t2097\t138\t1824\t198\t117\t1532\t2000\t1478\t539\t1982\t125\t1856\t139\t475\t1338\n",
      "848\t202\t1116\t791\t1114\t236\t183\t186\t150\t1016\t1258\t84\t952\t1202\t988\t866\n",
      "946\t155\t210\t980\t896\t875\t925\t613\t209\t746\t147\t170\t577\t942\t475\t850\n",
      "1500\t322\t43\t95\t74\t210\t1817\t1631\t1762\t128\t181\t716\t171\t1740\t145\t1123\n",
      "3074\t827\t117\t2509\t161\t206\t2739\t253\t2884\t248\t3307\t2760\t2239\t1676\t1137\t3055\n",
      "183\t85\t143\t197\t243\t72\t291\t279\t99\t189\t30\t101\t211\t209\t77\t198\n",
      "175\t149\t259\t372\t140\t250\t168\t142\t146\t284\t273\t74\t162\t112\t78\t29\n",
      " ...\n",
      "3421\t1404\t2360\t2643\t3186\t3352\t1112\t171\t168\t177\t146\t1945\t319\t185\t2927\t2289\n",
      "543\t462\t111\t459\t107\t353\t2006\t116\t2528\t56\t2436\t1539\t1770\t125\t2697\t2432\n",
      "1356\t208\t5013\t4231\t193\t169\t3152\t2543\t4430\t4070\t4031\t145\t4433\t4187\t4394\t1754\n",
      "5278\t113\t4427\t569\t5167\t175\t192\t3903\t155\t1051\t4121\t5140\t2328\t203\t5653\t3233\n"
     ]
    },
    {
     "data": {
      "text/markdown": [
       "The stored answers are: `{1: '34581', 2: '214'}`"
      ],
      "text/plain": [
       "<IPython.core.display.Markdown object>"
      ]
     },
     "metadata": {},
     "output_type": "display_data"
    }
   ],
   "source": [
    "puzzle = advent.puzzle(day=2)"
   ]
  },
  {
   "cell_type": "code",
   "execution_count": 16,
   "id": "74595e38-f6f8-49cf-8f25-cf3be60148a5",
   "metadata": {
    "execution": {
     "iopub.execute_input": "2022-11-02T19:21:57.709287Z",
     "iopub.status.busy": "2022-11-02T19:21:57.709059Z",
     "iopub.status.idle": "2022-11-02T19:21:57.716965Z",
     "shell.execute_reply": "2022-11-02T19:21:57.716421Z",
     "shell.execute_reply.started": "2022-11-02T19:21:57.709271Z"
    }
   },
   "outputs": [],
   "source": [
    "s1 = \"\"\"\n",
    "5 1 9 5\n",
    "7 5 3\n",
    "2 4 6 8\n",
    "\"\"\""
   ]
  },
  {
   "cell_type": "code",
   "execution_count": 17,
   "id": "68d27df0-464e-4cda-8b0b-f114259d67cf",
   "metadata": {
    "execution": {
     "iopub.execute_input": "2022-11-02T19:21:57.717893Z",
     "iopub.status.busy": "2022-11-02T19:21:57.717676Z",
     "iopub.status.idle": "2022-11-02T19:21:57.733161Z",
     "shell.execute_reply": "2022-11-02T19:21:57.732591Z",
     "shell.execute_reply.started": "2022-11-02T19:21:57.717876Z"
    },
    "tags": []
   },
   "outputs": [],
   "source": [
    "s2 = \"\"\"\n",
    "5 9 2 8\n",
    "9 4 7 3\n",
    "3 8 6 5\n",
    "\"\"\""
   ]
  },
  {
   "cell_type": "code",
   "execution_count": 18,
   "id": "a75e3b46-e2f8-4ecf-a1f3-02d8da3b9235",
   "metadata": {
    "execution": {
     "iopub.execute_input": "2022-11-02T19:21:57.734148Z",
     "iopub.status.busy": "2022-11-02T19:21:57.733876Z",
     "iopub.status.idle": "2022-11-02T19:21:57.749234Z",
     "shell.execute_reply": "2022-11-02T19:21:57.748596Z",
     "shell.execute_reply.started": "2022-11-02T19:21:57.734134Z"
    },
    "tags": []
   },
   "outputs": [
    {
     "name": "stdout",
     "output_type": "stream",
     "text": [
      "(Part 1: 0.000 s)\n",
      "(Part 2: 0.000 s)\n"
     ]
    }
   ],
   "source": [
    "def process1(s, part2=False):\n",
    "  total = 0\n",
    "\n",
    "  for line in s.strip('\\n').split('\\n'):\n",
    "    values = [int(field) for field in line.split()]\n",
    "    if not part2:\n",
    "      difference = max(values) - min(values)\n",
    "      total += difference\n",
    "    else:\n",
    "      for value1, value2 in itertools.permutations(values, 2):\n",
    "        if value1 % value2 == 0:\n",
    "          total += value1 // value2\n",
    "          break\n",
    "\n",
    "  return total\n",
    "\n",
    "\n",
    "check_eq(process1(s1), 18)\n",
    "puzzle.verify(1, process1)\n",
    "\n",
    "process2 = functools.partial(process1, part2=True)\n",
    "check_eq(process2(s2), 9)\n",
    "puzzle.verify(2, process2)"
   ]
  },
  {
   "cell_type": "markdown",
   "id": "0baddff9",
   "metadata": {},
   "source": [
    "<a name=\"day3\"></a>\n",
    "## Day 3: Spiral memory"
   ]
  },
  {
   "cell_type": "markdown",
   "id": "1c9e39f0",
   "metadata": {},
   "source": [
    "- Part 1: Find the Manhattan distance (from the origin) of the nth spiral entry.\n",
    "\n",
    "- Part 2: Successively, each spiral value is the sum of its 3x3 neighborhood; find the first value that is larger than the puzzle input."
   ]
  },
  {
   "cell_type": "code",
   "execution_count": 19,
   "id": "3a480095",
   "metadata": {
    "execution": {
     "iopub.execute_input": "2022-11-02T19:21:57.750416Z",
     "iopub.status.busy": "2022-11-02T19:21:57.750042Z",
     "iopub.status.idle": "2022-11-02T19:21:57.775413Z",
     "shell.execute_reply": "2022-11-02T19:21:57.774913Z",
     "shell.execute_reply.started": "2022-11-02T19:21:57.750400Z"
    },
    "lines_to_next_cell": 1,
    "tags": []
   },
   "outputs": [
    {
     "data": {
      "text/markdown": [
       "For [day 3](https://adventofcode.com/2017/day/3), `puzzle.input` has a single line of 6 characters:"
      ],
      "text/plain": [
       "<IPython.core.display.Markdown object>"
      ]
     },
     "metadata": {},
     "output_type": "display_data"
    },
    {
     "name": "stdout",
     "output_type": "stream",
     "text": [
      "277678\n"
     ]
    },
    {
     "data": {
      "text/markdown": [
       "The stored answers are: `{1: '475', 2: '279138'}`"
      ],
      "text/plain": [
       "<IPython.core.display.Markdown object>"
      ]
     },
     "metadata": {},
     "output_type": "display_data"
    }
   ],
   "source": [
    "puzzle = advent.puzzle(day=3)"
   ]
  },
  {
   "cell_type": "code",
   "execution_count": 20,
   "id": "31270020-948a-4570-8371-9fbb1dd6872f",
   "metadata": {
    "execution": {
     "iopub.execute_input": "2022-11-02T19:21:57.776319Z",
     "iopub.status.busy": "2022-11-02T19:21:57.776059Z",
     "iopub.status.idle": "2022-11-02T19:21:57.783206Z",
     "shell.execute_reply": "2022-11-02T19:21:57.782651Z",
     "shell.execute_reply.started": "2022-11-02T19:21:57.776304Z"
    },
    "tags": []
   },
   "outputs": [],
   "source": [
    "def spiral_yx():\n",
    "  \"\"\"Yields y, x coordinates of successive spiral entries.\"\"\"\n",
    "  yield 0, 0  # Value 1.\n",
    "  yield 0, 1  # Value 2.\n",
    "  yield -1, 1  # Value 3.\n",
    "  y, x = -1, 1\n",
    "  arm = 2\n",
    "  while True:\n",
    "    for _ in range(arm):\n",
    "      x -= 1\n",
    "      yield y, x\n",
    "    for _ in range(arm):\n",
    "      y += 1\n",
    "      yield y, x\n",
    "    arm += 1\n",
    "    for _ in range(arm):\n",
    "      x += 1\n",
    "      yield y, x\n",
    "    for _ in range(arm):\n",
    "      y -= 1\n",
    "      yield y, x\n",
    "    arm += 1"
   ]
  },
  {
   "cell_type": "code",
   "execution_count": 21,
   "id": "60043c07-fdb3-4bd2-ac88-3560f8765e30",
   "metadata": {
    "execution": {
     "iopub.execute_input": "2022-11-02T19:21:57.784173Z",
     "iopub.status.busy": "2022-11-02T19:21:57.783910Z",
     "iopub.status.idle": "2022-11-02T19:21:57.810754Z",
     "shell.execute_reply": "2022-11-02T19:21:57.810214Z",
     "shell.execute_reply.started": "2022-11-02T19:21:57.784158Z"
    },
    "tags": []
   },
   "outputs": [
    {
     "name": "stdout",
     "output_type": "stream",
     "text": [
      "(Part 1: 0.011 s)\n"
     ]
    }
   ],
   "source": [
    "def process1(s):  # Slow version.\n",
    "  value = int(s)\n",
    "  y, x = next(itertools.islice(spiral_yx(), value - 1, None))\n",
    "  return abs(y) + abs(x)\n",
    "\n",
    "check_eq(process1('1'), 0)\n",
    "check_eq(process1('12'), 3)\n",
    "check_eq(process1('22'), 3)\n",
    "check_eq(process1('23'), 2)\n",
    "check_eq(process1('24'), 3)\n",
    "check_eq(process1('1024'), 31)\n",
    "puzzle.verify(1, process1)"
   ]
  },
  {
   "cell_type": "code",
   "execution_count": 22,
   "id": "e97c9284-782e-4e49-b952-903540e74c87",
   "metadata": {
    "execution": {
     "iopub.execute_input": "2022-11-02T19:21:57.811994Z",
     "iopub.status.busy": "2022-11-02T19:21:57.811421Z",
     "iopub.status.idle": "2022-11-02T19:21:57.826736Z",
     "shell.execute_reply": "2022-11-02T19:21:57.826089Z",
     "shell.execute_reply.started": "2022-11-02T19:21:57.811944Z"
    },
    "tags": []
   },
   "outputs": [
    {
     "name": "stdout",
     "output_type": "stream",
     "text": [
      "(Part 1: 0.000 s)\n"
     ]
    }
   ],
   "source": [
    "def process1(s):  # Fast version.\n",
    "  value = int(s)\n",
    "  result = {1: 0, 2: 1, 3: 2}.get(value)\n",
    "  if result is not None:\n",
    "    return result\n",
    "  n = 4\n",
    "  arm = 2\n",
    "  count = 0  # 0 or 1\n",
    "  while n + arm <= value:\n",
    "    n += arm\n",
    "    count += 1\n",
    "    if count == 2:\n",
    "      count = 0\n",
    "      arm += 1\n",
    "  xd = value - n - (arm // 2 - 1)\n",
    "  r = (arm + count) // 2\n",
    "  d = abs(xd) + r\n",
    "  return d\n",
    "\n",
    "check_eq(process1('1'), 0)\n",
    "check_eq(process1('12'), 3)\n",
    "check_eq(process1('22'), 3)\n",
    "check_eq(process1('23'), 2)\n",
    "check_eq(process1('24'), 3)\n",
    "check_eq(process1('1024'), 31)\n",
    "puzzle.verify(1, process1)"
   ]
  },
  {
   "cell_type": "code",
   "execution_count": 23,
   "id": "aa81c02a-b2bc-41e3-9db9-2d2513741499",
   "metadata": {
    "execution": {
     "iopub.execute_input": "2022-11-02T19:21:57.828089Z",
     "iopub.status.busy": "2022-11-02T19:21:57.827600Z",
     "iopub.status.idle": "2022-11-02T19:21:57.844782Z",
     "shell.execute_reply": "2022-11-02T19:21:57.844232Z",
     "shell.execute_reply.started": "2022-11-02T19:21:57.828073Z"
    },
    "tags": []
   },
   "outputs": [
    {
     "name": "stdout",
     "output_type": "stream",
     "text": [
      "(Part 2: 0.000 s)\n"
     ]
    }
   ],
   "source": [
    "def process2(s, size=41):\n",
    "  value = int(s)\n",
    "  grid = np.zeros((size, size), dtype=np.int32)\n",
    "  g = size // 2  # The first value 1 is located at central grid[g, g].\n",
    "  for y0, x0 in spiral_yx():\n",
    "    y, x = y0 + g, x0 + g\n",
    "    assert y >= 1 and x >= 1\n",
    "    count = max(np.sum(grid[y - 1: y + 2, x - 1: x + 2]), 1)\n",
    "    grid[y, x] = count\n",
    "    if count > value:\n",
    "      return count\n",
    "\n",
    "check_eq(process2('1'), 2)\n",
    "check_eq(process2('2'), 4)\n",
    "check_eq(process2('4'), 5)\n",
    "check_eq(process2('5'), 10)\n",
    "check_eq(process2('59'), 122)\n",
    "puzzle.verify(2, process2)"
   ]
  },
  {
   "cell_type": "markdown",
   "id": "0cefff26",
   "metadata": {},
   "source": [
    "<a name=\"day4\"></a>\n",
    "## Day 4: Valid passphrases"
   ]
  },
  {
   "cell_type": "markdown",
   "id": "d6091493",
   "metadata": {},
   "source": [
    "- Part 1: How many passphrases contain no duplicate words?\n",
    "\n",
    "- Part 2: What if in addition, no two words may be anagrams of each other?"
   ]
  },
  {
   "cell_type": "code",
   "execution_count": 24,
   "id": "41a1020b",
   "metadata": {
    "execution": {
     "iopub.execute_input": "2022-11-02T19:21:57.846273Z",
     "iopub.status.busy": "2022-11-02T19:21:57.845732Z",
     "iopub.status.idle": "2022-11-02T19:21:57.871864Z",
     "shell.execute_reply": "2022-11-02T19:21:57.871217Z",
     "shell.execute_reply.started": "2022-11-02T19:21:57.846247Z"
    }
   },
   "outputs": [
    {
     "data": {
      "text/markdown": [
       "For [day 4](https://adventofcode.com/2017/day/4), `puzzle.input` has 512 lines:"
      ],
      "text/plain": [
       "<IPython.core.display.Markdown object>"
      ]
     },
     "metadata": {},
     "output_type": "display_data"
    },
    {
     "name": "stdout",
     "output_type": "stream",
     "text": [
      "pphsv ojtou brvhsj cer ntfhlra udeh ccgtyzc zoyzmh jum lugbnk\n",
      "vxjnf fzqitnj uyfck blnl impo kxoow nngd worcm bdesehw\n",
      "caibh nfuk kfnu llfdbz uxjty yxjut jcea\n",
      "qiho qif eupwww avyglnj nxzotsu hio lws\n",
      "xjty usocjsh pivk qnknunc yjcgh bwya djw zpyr\n",
      "ycfmfe mgq sjiomg nfzjul bjwkmgu yvsnvgj dcjupu wzz blmn\n",
      "rdowgbt vpwfdoi blzl laghnk gsa vhnpo cztxzlb rtz hvwonhb eciju pfjtbo\n",
      "bqs bqs dbutvgf mmzb izpyud rap izpyud xlzeb mnj hjncs\n",
      " ...\n",
      "lfd eops govslp ultbye vrqai hcjkcf snpape\n",
      "cbok koumkad otpozb pqcs emilpe wpcyvxd bock\n",
      "spjb xkkak anuvk ejoklh nyerw bsjp zxuq vcwitnd xxtjmjg zfgq xkpf\n",
      "juo pmiyoh xxk myphio ogfyf dovlmwm moevao qqxidn\n"
     ]
    },
    {
     "data": {
      "text/markdown": [
       "The stored answers are: `{1: '466', 2: '251'}`"
      ],
      "text/plain": [
       "<IPython.core.display.Markdown object>"
      ]
     },
     "metadata": {},
     "output_type": "display_data"
    }
   ],
   "source": [
    "puzzle = advent.puzzle(day=4)"
   ]
  },
  {
   "cell_type": "code",
   "execution_count": 25,
   "id": "d4e0e6ef-6186-4dfe-8bac-addb142e7720",
   "metadata": {
    "execution": {
     "iopub.execute_input": "2022-11-02T19:21:57.872869Z",
     "iopub.status.busy": "2022-11-02T19:21:57.872599Z",
     "iopub.status.idle": "2022-11-02T19:21:57.878795Z",
     "shell.execute_reply": "2022-11-02T19:21:57.878095Z",
     "shell.execute_reply.started": "2022-11-02T19:21:57.872852Z"
    }
   },
   "outputs": [],
   "source": [
    "s1 = \"\"\"\n",
    "aa bb cc dd ee\n",
    "aa bb cc dd aa\n",
    "aa bb cc dd aaa\n",
    "\"\"\""
   ]
  },
  {
   "cell_type": "code",
   "execution_count": 26,
   "id": "a2314280-674d-47e4-9045-b00c4e64c635",
   "metadata": {
    "execution": {
     "iopub.execute_input": "2022-11-02T19:21:57.879575Z",
     "iopub.status.busy": "2022-11-02T19:21:57.879433Z",
     "iopub.status.idle": "2022-11-02T19:21:57.897305Z",
     "shell.execute_reply": "2022-11-02T19:21:57.896700Z",
     "shell.execute_reply.started": "2022-11-02T19:21:57.879563Z"
    }
   },
   "outputs": [],
   "source": [
    "s2 = \"\"\"\n",
    "abcde fghij\n",
    "abcde xyz ecdab\n",
    "a ab abc abd abf abj\n",
    "iiii oiii ooii oooi oooo\n",
    "oiii ioii iioi iiio\n",
    "\"\"\""
   ]
  },
  {
   "cell_type": "code",
   "execution_count": 27,
   "id": "551b3330",
   "metadata": {
    "execution": {
     "iopub.execute_input": "2022-11-02T19:21:57.898190Z",
     "iopub.status.busy": "2022-11-02T19:21:57.897932Z",
     "iopub.status.idle": "2022-11-02T19:21:57.917448Z",
     "shell.execute_reply": "2022-11-02T19:21:57.916865Z",
     "shell.execute_reply.started": "2022-11-02T19:21:57.898176Z"
    },
    "tags": []
   },
   "outputs": [
    {
     "name": "stdout",
     "output_type": "stream",
     "text": [
      "(Part 1: 0.000 s)\n",
      "(Part 2: 0.001 s)\n"
     ]
    }
   ],
   "source": [
    "def process1(s, part2=False):\n",
    "  num_valid = 0\n",
    "\n",
    "  for line in s.strip('\\n').split('\\n'):\n",
    "    words = line.split()\n",
    "    valid = len(words) == len(set(words))\n",
    "    if valid and part2:\n",
    "      words_with_sorted_letters = [''.join(sorted(word)) for word in words]\n",
    "      valid = len(words_with_sorted_letters) == len(set(words_with_sorted_letters))\n",
    "    num_valid += valid\n",
    "\n",
    "  return num_valid\n",
    "\n",
    "\n",
    "check_eq(process1(s1), 2)\n",
    "puzzle.verify(1, process1)\n",
    "\n",
    "process2 = functools.partial(process1, part2=True)\n",
    "check_eq(process2(s2), 3)\n",
    "puzzle.verify(2, process2)"
   ]
  },
  {
   "cell_type": "markdown",
   "id": "31f297cc",
   "metadata": {},
   "source": [
    "<a name=\"day5\"></a>\n",
    "## Day 5: Update and follow jumps"
   ]
  },
  {
   "cell_type": "markdown",
   "id": "ccbe920e",
   "metadata": {},
   "source": [
    "- Part 1: After each jump, the offset of that instruction increases by 1.  How many steps does it take to reach the exit?\n",
    "\n",
    "- Part 2: Same, but after each jump, if the offset was three or more, instead decrease it by 1."
   ]
  },
  {
   "cell_type": "code",
   "execution_count": 28,
   "id": "723858e0",
   "metadata": {
    "execution": {
     "iopub.execute_input": "2022-11-02T19:21:57.918666Z",
     "iopub.status.busy": "2022-11-02T19:21:57.918230Z",
     "iopub.status.idle": "2022-11-02T19:21:57.936713Z",
     "shell.execute_reply": "2022-11-02T19:21:57.936064Z",
     "shell.execute_reply.started": "2022-11-02T19:21:57.918651Z"
    },
    "tags": []
   },
   "outputs": [
    {
     "data": {
      "text/markdown": [
       "For [day 5](https://adventofcode.com/2017/day/5), `puzzle.input` has 1_003 lines:"
      ],
      "text/plain": [
       "<IPython.core.display.Markdown object>"
      ]
     },
     "metadata": {},
     "output_type": "display_data"
    },
    {
     "name": "stdout",
     "output_type": "stream",
     "text": [
      "1\n",
      "2\n",
      "0\n",
      "0\n",
      "0\n",
      "2\n",
      "-2\n",
      "-2\n",
      " ...\n",
      "-215\n",
      "-896\n",
      "-216\n",
      "-477\n"
     ]
    },
    {
     "data": {
      "text/markdown": [
       "The stored answers are: `{1: '326618', 2: '21841249'}`"
      ],
      "text/plain": [
       "<IPython.core.display.Markdown object>"
      ]
     },
     "metadata": {},
     "output_type": "display_data"
    }
   ],
   "source": [
    "puzzle = advent.puzzle(day=5)"
   ]
  },
  {
   "cell_type": "code",
   "execution_count": 29,
   "id": "e3b6d42e-91c8-4ee0-9965-8b26d561d2b7",
   "metadata": {
    "execution": {
     "iopub.execute_input": "2022-11-02T19:21:57.937757Z",
     "iopub.status.busy": "2022-11-02T19:21:57.937573Z",
     "iopub.status.idle": "2022-11-02T19:21:57.946052Z",
     "shell.execute_reply": "2022-11-02T19:21:57.945502Z",
     "shell.execute_reply.started": "2022-11-02T19:21:57.937743Z"
    },
    "tags": []
   },
   "outputs": [],
   "source": [
    "s1 = \"\"\"\n",
    "0\n",
    "3\n",
    "0\n",
    "1\n",
    "-3\n",
    "\"\"\""
   ]
  },
  {
   "cell_type": "code",
   "execution_count": 30,
   "id": "fdafc9e0",
   "metadata": {
    "execution": {
     "iopub.execute_input": "2022-11-02T19:21:57.946929Z",
     "iopub.status.busy": "2022-11-02T19:21:57.946688Z",
     "iopub.status.idle": "2022-11-02T19:21:57.996468Z",
     "shell.execute_reply": "2022-11-02T19:21:57.995868Z",
     "shell.execute_reply.started": "2022-11-02T19:21:57.946915Z"
    },
    "tags": []
   },
   "outputs": [
    {
     "name": "stdout",
     "output_type": "stream",
     "text": [
      "(Part 1: 0.032 s)\n"
     ]
    }
   ],
   "source": [
    "def process1(s, part2=False):  # Slow.\n",
    "  values = [int(s2) for s2 in s.strip('\\n').split('\\n')]\n",
    "  pos = 0\n",
    "\n",
    "  for num_steps in itertools.count(1):\n",
    "    offset = values[pos]\n",
    "    values[pos] = offset - 1 if (part2 and offset >= 3) else offset + 1\n",
    "    pos += offset\n",
    "    if not 0 <= pos < len(values):\n",
    "      return num_steps\n",
    "\n",
    "\n",
    "check_eq(process1(s1), 5)\n",
    "puzzle.verify(1, process1)\n",
    "\n",
    "process2 = functools.partial(process1, part2=True)\n",
    "check_eq(process2(s1), 10)\n",
    "if 0:\n",
    "  puzzle.verify(2, process2)  # ~2.2 s."
   ]
  },
  {
   "cell_type": "code",
   "execution_count": 31,
   "id": "aa65cbe0-af4c-4579-99a5-033e97004242",
   "metadata": {
    "execution": {
     "iopub.execute_input": "2022-11-02T19:21:57.997387Z",
     "iopub.status.busy": "2022-11-02T19:21:57.997203Z",
     "iopub.status.idle": "2022-11-02T19:21:58.179531Z",
     "shell.execute_reply": "2022-11-02T19:21:58.178963Z",
     "shell.execute_reply.started": "2022-11-02T19:21:57.997373Z"
    },
    "tags": []
   },
   "outputs": [
    {
     "name": "stdout",
     "output_type": "stream",
     "text": [
      "(Part 1: 0.002 s)\n",
      "(Part 2: 0.030 s)\n"
     ]
    }
   ],
   "source": [
    "def process1(s, part2=False):  # Fast.\n",
    "  values = np.array([int(s2) for s2 in s.strip('\\n').split('\\n')], dtype=np.int64)\n",
    "\n",
    "  @numba_njit(cache=True)\n",
    "  def compute(values: Any) -> int:\n",
    "    pos = 0\n",
    "    num_steps = 0\n",
    "    while 0 <= pos < len(values):\n",
    "      num_steps += 1\n",
    "      offset = values[pos]\n",
    "      values[pos] = offset - 1 if (part2 and offset >= 3) else offset + 1\n",
    "      pos += offset\n",
    "    return num_steps\n",
    "\n",
    "  return compute(values)\n",
    "\n",
    "\n",
    "check_eq(process1(s1), 5)\n",
    "puzzle.verify(1, process1)\n",
    "\n",
    "process2 = functools.partial(process1, part2=True)\n",
    "check_eq(process2(s1), 10)\n",
    "puzzle.verify(2, process2)"
   ]
  },
  {
   "cell_type": "markdown",
   "id": "3c7dab5c",
   "metadata": {},
   "source": [
    "<a name=\"day6\"></a>\n",
    "## Day 6: Successive 1D redistributions"
   ]
  },
  {
   "cell_type": "markdown",
   "id": "c8f37fe0",
   "metadata": {},
   "source": [
    "- Part 1: How many redistribution cycles must be completed before a configuration is produced that has been seen before?\n",
    "\n",
    "- Part 2: How many cycles are in the infinite loop that arises from the configuration in your puzzle input?"
   ]
  },
  {
   "cell_type": "code",
   "execution_count": 32,
   "id": "154c2722",
   "metadata": {
    "execution": {
     "iopub.execute_input": "2022-11-02T19:21:58.180957Z",
     "iopub.status.busy": "2022-11-02T19:21:58.180440Z",
     "iopub.status.idle": "2022-11-02T19:21:58.189407Z",
     "shell.execute_reply": "2022-11-02T19:21:58.188918Z",
     "shell.execute_reply.started": "2022-11-02T19:21:58.180935Z"
    },
    "tags": []
   },
   "outputs": [
    {
     "data": {
      "text/markdown": [
       "For [day 6](https://adventofcode.com/2017/day/6), `puzzle.input` has a single line of 37 characters:"
      ],
      "text/plain": [
       "<IPython.core.display.Markdown object>"
      ]
     },
     "metadata": {},
     "output_type": "display_data"
    },
    {
     "name": "stdout",
     "output_type": "stream",
     "text": [
      "11\t11\t13\t7\t0\t15\t5\t5\t4\t4\t1\t1\t7\t1\t15\t11\n"
     ]
    },
    {
     "data": {
      "text/markdown": [
       "The stored answers are: `{1: '4074', 2: '2793'}`"
      ],
      "text/plain": [
       "<IPython.core.display.Markdown object>"
      ]
     },
     "metadata": {},
     "output_type": "display_data"
    }
   ],
   "source": [
    "puzzle = advent.puzzle(day=6)"
   ]
  },
  {
   "cell_type": "code",
   "execution_count": 33,
   "id": "f8a93217-1b88-427f-9390-d33128bf8ca0",
   "metadata": {
    "execution": {
     "iopub.execute_input": "2022-11-02T19:21:58.190369Z",
     "iopub.status.busy": "2022-11-02T19:21:58.190113Z",
     "iopub.status.idle": "2022-11-02T19:21:58.200855Z",
     "shell.execute_reply": "2022-11-02T19:21:58.200392Z",
     "shell.execute_reply.started": "2022-11-02T19:21:58.190355Z"
    }
   },
   "outputs": [],
   "source": [
    "s1 = '0 2 7 0'"
   ]
  },
  {
   "cell_type": "code",
   "execution_count": 34,
   "id": "9c623be9",
   "metadata": {
    "execution": {
     "iopub.execute_input": "2022-11-02T19:21:58.201603Z",
     "iopub.status.busy": "2022-11-02T19:21:58.201447Z",
     "iopub.status.idle": "2022-11-02T19:21:58.242620Z",
     "shell.execute_reply": "2022-11-02T19:21:58.241972Z",
     "shell.execute_reply.started": "2022-11-02T19:21:58.201590Z"
    },
    "tags": []
   },
   "outputs": [
    {
     "name": "stdout",
     "output_type": "stream",
     "text": [
      "(Part 1: 0.012 s)\n",
      "(Part 2: 0.011 s)\n"
     ]
    }
   ],
   "source": [
    "def process1(s, part2=False):\n",
    "  blocks = tuple(int(word) for word in s.strip('\\n').split())\n",
    "  seen = {blocks: 0}\n",
    "\n",
    "  for num_rearrangements in itertools.count(1):\n",
    "    index = min((-count, index) for index, count in enumerate(blocks))[1]\n",
    "    count = blocks[index]\n",
    "    new_blocks = list(blocks)\n",
    "    new_blocks[index] = 0\n",
    "    for x in range(count):\n",
    "      new_blocks[(index + 1 + x) % len(blocks)] += 1\n",
    "    blocks = tuple(new_blocks)\n",
    "    if blocks in seen:\n",
    "      return num_rearrangements - (seen[blocks] if part2 else 0)\n",
    "    seen[blocks] = num_rearrangements\n",
    "\n",
    "\n",
    "check_eq(process1(s1), 5)\n",
    "puzzle.verify(1, process1)\n",
    "\n",
    "process2 = functools.partial(process1, part2=True)\n",
    "check_eq(process2(s1), 4)\n",
    "puzzle.verify(2, process2)"
   ]
  },
  {
   "cell_type": "markdown",
   "id": "f0842845",
   "metadata": {},
   "source": [
    "<a name=\"day7\"></a>\n",
    "## Day 7: Recursive balanced tower"
   ]
  },
  {
   "cell_type": "markdown",
   "id": "2d6c7fa3",
   "metadata": {},
   "source": [
    "- Part 1: What is the name of the bottom program?\n",
    "\n",
    "- Part 2: Given that exactly one program is the wrong weight, what would its weight need to be to balance the entire tower?"
   ]
  },
  {
   "cell_type": "code",
   "execution_count": 35,
   "id": "24183a87",
   "metadata": {
    "execution": {
     "iopub.execute_input": "2022-11-02T19:21:58.243600Z",
     "iopub.status.busy": "2022-11-02T19:21:58.243365Z",
     "iopub.status.idle": "2022-11-02T19:21:58.264564Z",
     "shell.execute_reply": "2022-11-02T19:21:58.264033Z",
     "shell.execute_reply.started": "2022-11-02T19:21:58.243585Z"
    },
    "tags": []
   },
   "outputs": [
    {
     "data": {
      "text/markdown": [
       "For [day 7](https://adventofcode.com/2017/day/7), `puzzle.input` has 1_605 lines:"
      ],
      "text/plain": [
       "<IPython.core.display.Markdown object>"
      ]
     },
     "metadata": {},
     "output_type": "display_data"
    },
    {
     "name": "stdout",
     "output_type": "stream",
     "text": [
      "nzyiue (57)\n",
      "pdmkag (39)\n",
      "bogbg (13)\n",
      "nubay (45)\n",
      "dukzh (17)\n",
      "kpjxln (44) -> dzzbvkv, gzdxgvj, wsocb, jidxg\n",
      "cxjyxl (83)\n",
      "vusplt (151) -> mcfst, orrwx\n",
      " ...\n",
      "paqlttl (65)\n",
      "kklix (25) -> jzoue, yokqfgn\n",
      "usevgds (44) -> aydmhhv, kkftjia\n",
      "tqlentr (214) -> gfxnuuk, thmlk\n"
     ]
    },
    {
     "data": {
      "text/markdown": [
       "The stored answers are: `{1: 'hlhomy', 2: '1505'}`"
      ],
      "text/plain": [
       "<IPython.core.display.Markdown object>"
      ]
     },
     "metadata": {},
     "output_type": "display_data"
    }
   ],
   "source": [
    "puzzle = advent.puzzle(day=7)"
   ]
  },
  {
   "cell_type": "code",
   "execution_count": 36,
   "id": "97b01c6c-5168-4abf-a446-be8142e64cca",
   "metadata": {
    "execution": {
     "iopub.execute_input": "2022-11-02T19:21:58.265456Z",
     "iopub.status.busy": "2022-11-02T19:21:58.265222Z",
     "iopub.status.idle": "2022-11-02T19:21:58.274349Z",
     "shell.execute_reply": "2022-11-02T19:21:58.273894Z",
     "shell.execute_reply.started": "2022-11-02T19:21:58.265443Z"
    },
    "tags": []
   },
   "outputs": [],
   "source": [
    "s1 = \"\"\"\n",
    "pbga (66)\n",
    "xhth (57)\n",
    "ebii (61)\n",
    "havc (66)\n",
    "ktlj (57)\n",
    "fwft (72) -> ktlj, cntj, xhth\n",
    "qoyq (66)\n",
    "padx (45) -> pbga, havc, qoyq\n",
    "tknk (41) -> ugml, padx, fwft\n",
    "jptl (61)\n",
    "ugml (68) -> gyxo, ebii, jptl\n",
    "gyxo (61)\n",
    "cntj (57)\n",
    "\"\"\""
   ]
  },
  {
   "cell_type": "code",
   "execution_count": 37,
   "id": "02520d1f",
   "metadata": {
    "execution": {
     "iopub.execute_input": "2022-11-02T19:21:58.275224Z",
     "iopub.status.busy": "2022-11-02T19:21:58.274993Z",
     "iopub.status.idle": "2022-11-02T19:21:58.365264Z",
     "shell.execute_reply": "2022-11-02T19:21:58.364741Z",
     "shell.execute_reply.started": "2022-11-02T19:21:58.275212Z"
    },
    "tags": []
   },
   "outputs": [
    {
     "name": "stdout",
     "output_type": "stream",
     "text": [
      "(Part 1: 0.064 s)\n",
      "(Part 2: 0.010 s)\n"
     ]
    }
   ],
   "source": [
    "def process1(s, part2=False):\n",
    "  prog = re.compile(r'([a-z]+) \\((\\d+)\\)( -> .*)?')\n",
    "  graph = {}\n",
    "  weights = {}\n",
    "  for line in s.strip('\\n').split('\\n'):\n",
    "    name, weight, rest = prog.fullmatch(line).groups()\n",
    "    weights[name] = int(weight)\n",
    "    graph[name] = rest[len(' -> '):].split(', ') if rest else []\n",
    "  nodes = hh.topological_sort(graph)\n",
    "\n",
    "  if not part2:\n",
    "    root = nodes[0]\n",
    "    return root\n",
    "\n",
    "  @functools.lru_cache(None)\n",
    "  def tower_weight(node: str) -> int:\n",
    "    return weights[node] + sum(tower_weight(child) for child in graph[node])\n",
    "\n",
    "  for node in reversed(nodes):\n",
    "    children = graph[node]\n",
    "    if children:\n",
    "      tower_weights = [tower_weight(child) for child in children]\n",
    "      unique, index, counts = np.unique(tower_weights, return_index=True, return_counts=True)\n",
    "      if len(unique) > 1:\n",
    "        # hh.show(node, children, tower_weights, unique, index, counts)\n",
    "        assert len(counts) == 2 and counts[0] > 1 and counts[1] == 1\n",
    "        unique_child = children[index[1]]\n",
    "        weight_difference = unique[0] - unique[1]\n",
    "        return weights[unique_child] + weight_difference\n",
    "\n",
    "\n",
    "check_eq(process1(s1), 'tknk')\n",
    "puzzle.verify(1, process1)\n",
    "\n",
    "process2 = functools.partial(process1, part2=True)\n",
    "check_eq(process2(s1), 60)\n",
    "puzzle.verify(2, process2)"
   ]
  },
  {
   "cell_type": "markdown",
   "id": "4626bd25",
   "metadata": {},
   "source": [
    "<a name=\"day8\"></a>\n",
    "## Day 8: Program with registers"
   ]
  },
  {
   "cell_type": "markdown",
   "id": "72be6485",
   "metadata": {},
   "source": [
    "- Part 1: What is the largest value in any register after completing the instructions in your puzzle input?\n",
    "\n",
    "- Part 2: What is the highest value held in any register during this process "
   ]
  },
  {
   "cell_type": "code",
   "execution_count": null,
   "id": "62579890",
   "metadata": {
    "tags": []
   },
   "outputs": [],
   "source": [
    "puzzle = advent.puzzle(day=8)"
   ]
  },
  {
   "cell_type": "code",
   "execution_count": null,
   "id": "064c64a3-ccd1-4f50-94ae-43ad80e43624",
   "metadata": {},
   "outputs": [],
   "source": [
    "s1 = \"\"\"\n",
    "b inc 5 if a > 1\n",
    "a inc 1 if b < 5\n",
    "c dec -10 if a >= 1\n",
    "c inc -20 if c == 10\n",
    "\"\"\""
   ]
  },
  {
   "cell_type": "code",
   "execution_count": null,
   "id": "4c669ad4",
   "metadata": {
    "tags": []
   },
   "outputs": [],
   "source": [
    "def process1(s, part2=False):\n",
    "  COND_OPS = {'<': operator.lt, '>': operator.gt, '<=': operator.le, '>=': operator.ge,\n",
    "              '==': operator.eq, '!=': operator.ne}\n",
    "  prog = re.compile(r'([a-z]+) (inc|dec) (-?\\d+) if ([a-z]+) (<|>|<=|>=|==|!=) (-?\\d+)')\n",
    "  registers = collections.defaultdict(int)\n",
    "  max_value = 0\n",
    "\n",
    "  for line in s.strip('\\n').split('\\n'):\n",
    "    reg, op, value, cond_reg, cond_op, cond_value = prog.fullmatch(line).groups()\n",
    "    condition = COND_OPS[cond_op](registers[cond_reg], int(cond_value))\n",
    "    if condition:\n",
    "      registers[reg] += int(value) * {'inc': 1, 'dec': -1}[op]\n",
    "      max_value = max(max_value, registers[reg])\n",
    "\n",
    "  return max_value if part2 else max(registers.values())\n",
    "\n",
    "\n",
    "check_eq(process1(s1), 1)\n",
    "puzzle.verify(1, process1)\n",
    "\n",
    "process2 = functools.partial(process1, part2=True)\n",
    "check_eq(process2(s1), 10)\n",
    "puzzle.verify(2, process2)"
   ]
  },
  {
   "cell_type": "markdown",
   "id": "de2ca6c4",
   "metadata": {},
   "source": [
    "<a name=\"day9\"></a>\n",
    "## Day 9: Nested streams with garbage"
   ]
  },
  {
   "cell_type": "markdown",
   "id": "b971ce99",
   "metadata": {},
   "source": [
    "- Part 1: What is the total score for all groups in your input?\n",
    "\n",
    "- Part 2: How many non-canceled characters are within the garbage in your puzzle input?"
   ]
  },
  {
   "cell_type": "code",
   "execution_count": null,
   "id": "04ce90db",
   "metadata": {
    "lines_to_next_cell": 1,
    "tags": []
   },
   "outputs": [],
   "source": [
    "puzzle = advent.puzzle(day=9)"
   ]
  },
  {
   "cell_type": "code",
   "execution_count": null,
   "id": "7a29c962",
   "metadata": {
    "tags": []
   },
   "outputs": [],
   "source": [
    "def process1(s, part2=False):\n",
    "  s = re.sub(r'!.', '', s.strip('\\n'))\n",
    "  num_garbage = 0\n",
    "\n",
    "  def read_group(s: str, i: int) -> tuple[list[Any], int]:\n",
    "    nonlocal num_garbage\n",
    "    check_eq(s[i], '{')\n",
    "    groups = []\n",
    "    while True:\n",
    "      i += 1\n",
    "      if s[i] == '}':\n",
    "        return groups, i\n",
    "      if s[i] == '<':\n",
    "        i += 1\n",
    "        while s[i] != '>':\n",
    "          num_garbage += 1\n",
    "          i += 1\n",
    "      elif s[i] != ',':\n",
    "        group, i = read_group(s, i)\n",
    "        groups.append(group)\n",
    "\n",
    "  group, i = read_group(s, 0)\n",
    "  check_eq(i + 1, len(s))\n",
    "\n",
    "  def get_score(group: list[Any], depth: int) -> int:\n",
    "    return depth + sum(get_score(child, depth + 1) for child in group)\n",
    "\n",
    "  return num_garbage if part2 else get_score(group, 1)\n",
    "\n",
    "\n",
    "check_eq(process1('{}'), 1)\n",
    "check_eq(process1('{{{}}}'), 6)\n",
    "check_eq(process1('{{},{}}'), 5)\n",
    "check_eq(process1('{{{},{},{{}}}}'), 16)\n",
    "check_eq(process1('{<a>,<a>,<a>,<a>}'), 1)\n",
    "check_eq(process1('{{<ab>},{<ab>},{<ab>},{<ab>}}'), 9)\n",
    "check_eq(process1('{{<!!>},{<!!>},{<!!>},{<!!>}}'), 9)\n",
    "check_eq(process1('{{<a!>},{<a!>},{<a!>},{<ab>}}'), 3)\n",
    "puzzle.verify(1, process1)\n",
    "\n",
    "process2 = functools.partial(process1, part2=True)\n",
    "puzzle.verify(2, process2)"
   ]
  },
  {
   "cell_type": "markdown",
   "id": "9cf4bc45",
   "metadata": {},
   "source": [
    "<a name=\"day10\"></a>\n",
    "## Day 10: Knot hash: flip sequences"
   ]
  },
  {
   "cell_type": "markdown",
   "id": "2509c2df",
   "metadata": {},
   "source": [
    "- Part 1: Once this process is complete, what is the result of multiplying the first two numbers in the list?\n",
    "\n",
    "- Part 2: What is the Knot Hash of your puzzle input?"
   ]
  },
  {
   "cell_type": "code",
   "execution_count": null,
   "id": "35512a83",
   "metadata": {
    "tags": []
   },
   "outputs": [],
   "source": [
    "puzzle = advent.puzzle(day=10)"
   ]
  },
  {
   "cell_type": "code",
   "execution_count": 44,
   "id": "039e1d45-f529-4d9b-817c-3123710c64d0",
   "metadata": {
    "execution": {
     "iopub.execute_input": "2022-11-02T19:21:58.468794Z",
     "iopub.status.busy": "2022-11-02T19:21:58.468582Z",
     "iopub.status.idle": "2022-11-02T19:21:58.478357Z",
     "shell.execute_reply": "2022-11-02T19:21:58.477852Z",
     "shell.execute_reply.started": "2022-11-02T19:21:58.468780Z"
    },
    "tags": []
   },
   "outputs": [],
   "source": [
    "s1 = '3, 4, 1, 5'"
   ]
  },
  {
   "cell_type": "code",
   "execution_count": 45,
   "id": "d6eab05e",
   "metadata": {
    "execution": {
     "iopub.execute_input": "2022-11-02T19:21:58.479342Z",
     "iopub.status.busy": "2022-11-02T19:21:58.479063Z",
     "iopub.status.idle": "2022-11-02T19:21:58.506634Z",
     "shell.execute_reply": "2022-11-02T19:21:58.505971Z",
     "shell.execute_reply.started": "2022-11-02T19:21:58.479329Z"
    },
    "tags": []
   },
   "outputs": [
    {
     "name": "stdout",
     "output_type": "stream",
     "text": [
      "(Part 1: 0.000 s)\n",
      "(Part 2: 0.007 s)\n"
     ]
    }
   ],
   "source": [
    "def process1(s, num=256, num_rounds=1, part2=False):\n",
    "  s = s.strip('\\n')\n",
    "  if not part2:\n",
    "    lengths = [int(s2) for s2 in s.replace(' ', '').split(',')]\n",
    "  else:\n",
    "    lengths = [ord(ch) for ch in s] + [17, 31, 73, 47, 23]\n",
    "\n",
    "  state = list(range(num))\n",
    "  position = 0\n",
    "  skip = 0\n",
    "  for round_index in range(num_rounds):\n",
    "    for length in lengths:\n",
    "      assert length <= num\n",
    "      rotated = state[position:] + state[:position] if position else state\n",
    "      rotated[:length] = reversed(rotated[:length])\n",
    "      state = rotated[-position:] + rotated[:-position] if position else rotated\n",
    "      position = (position + length + skip) % num\n",
    "      skip += 1\n",
    "\n",
    "  if not part2:\n",
    "    return state[0] * state[1]\n",
    "\n",
    "  xors = [functools.reduce(operator.xor, group, 0) for group in hh.grouped(state, 16)]\n",
    "  return ''.join(f'{value:02x}' for value in xors)\n",
    "\n",
    "\n",
    "check_eq(process1(s1, num=5), 12)\n",
    "puzzle.verify(1, process1)\n",
    "\n",
    "process2 = functools.partial(process1, num_rounds=64, part2=True)\n",
    "check_eq(process2('1,2,3'), '3efbe78a8d82f29979031a4aa0b16a9d')\n",
    "check_eq(process2(''), 'a2582a3a0e66e6e86e3812dcb672a272')\n",
    "check_eq(process2('AoC 2017'), '33efeb34ea91902bb2f59c9920caa6cd')\n",
    "check_eq(process2('1,2,4'), '63960835bcdc130f0b66d7ff4f6a5a8e')\n",
    "puzzle.verify(2, process2)"
   ]
  },
  {
   "cell_type": "markdown",
   "id": "ef38ed24",
   "metadata": {},
   "source": [
    "<a name=\"day11\"></a>\n",
    "## Day 11: March on hex grid"
   ]
  },
  {
   "cell_type": "markdown",
   "id": "c588606c",
   "metadata": {},
   "source": [
    "- Part 1: What is the fewest number of steps required to reach him?\n",
    "\n",
    "- Part 2: How many steps away is the furthest he ever got from his starting position?"
   ]
  },
  {
   "cell_type": "code",
   "execution_count": 46,
   "id": "318f4ca3",
   "metadata": {
    "execution": {
     "iopub.execute_input": "2022-11-02T19:21:58.507612Z",
     "iopub.status.busy": "2022-11-02T19:21:58.507300Z",
     "iopub.status.idle": "2022-11-02T19:21:58.521179Z",
     "shell.execute_reply": "2022-11-02T19:21:58.520695Z",
     "shell.execute_reply.started": "2022-11-02T19:21:58.507596Z"
    },
    "lines_to_next_cell": 1,
    "tags": []
   },
   "outputs": [
    {
     "data": {
      "text/markdown": [
       "For [day 11](https://adventofcode.com/2017/day/11), `puzzle.input` has a single line of 22_108 characters:"
      ],
      "text/plain": [
       "<IPython.core.display.Markdown object>"
      ]
     },
     "metadata": {},
     "output_type": "display_data"
    },
    {
     "name": "stdout",
     "output_type": "stream",
     "text": [
      "ne,se,n,n,nw,nw,nw,n,nw,nw,sw,sw,sw,sw,s,se,s,se,s,s,s,nw,s,s,s,se,se,ne,se,se,n ... ,s,n,ne,s,n,s,n,n,n,n,n,se,n,n,nw,n\n"
     ]
    },
    {
     "data": {
      "text/markdown": [
       "The stored answers are: `{1: '877', 2: '1622'}`"
      ],
      "text/plain": [
       "<IPython.core.display.Markdown object>"
      ]
     },
     "metadata": {},
     "output_type": "display_data"
    }
   ],
   "source": [
    "puzzle = advent.puzzle(day=11)"
   ]
  },
  {
   "cell_type": "code",
   "execution_count": 47,
   "id": "2edc3d26",
   "metadata": {
    "execution": {
     "iopub.execute_input": "2022-11-02T19:21:58.522298Z",
     "iopub.status.busy": "2022-11-02T19:21:58.521857Z",
     "iopub.status.idle": "2022-11-02T19:21:58.533519Z",
     "shell.execute_reply": "2022-11-02T19:21:58.533089Z",
     "shell.execute_reply.started": "2022-11-02T19:21:58.522281Z"
    },
    "tags": []
   },
   "outputs": [
    {
     "name": "stdout",
     "output_type": "stream",
     "text": [
      "(Part 1: 0.002 s)\n",
      "(Part 2: 0.002 s)\n"
     ]
    }
   ],
   "source": [
    "def process1(s, part2=False):\n",
    "  steps = s.strip('\\n').split(',')\n",
    "  MOVES = {'s': (1, 0), 'se': (0, 1), 'n': (-1, 0), 'nw': (0, -1), 'ne': (-1, 1), 'sw': (1, -1)}\n",
    "\n",
    "  def hex_radius(y: int, x: int) -> int:\n",
    "    return max(abs(y), abs(x)) if y * x < 0 else abs(y) + abs(x)\n",
    "\n",
    "  y, x = 0, 0\n",
    "  radii = []\n",
    "  for step in steps:\n",
    "    dy, dx = MOVES[step]\n",
    "    y, x = y + dy, x + dx\n",
    "    radii.append(hex_radius(y, x))\n",
    "\n",
    "  return max(radii) if part2 else radii[-1]\n",
    "\n",
    "\n",
    "check_eq(process1('ne,ne,ne'), 3)\n",
    "check_eq(process1('ne,ne,sw,sw'), 0)\n",
    "check_eq(process1('ne,ne,s,s'), 2)\n",
    "check_eq(process1('se,sw,se,sw,sw'), 3)\n",
    "puzzle.verify(1, process1)\n",
    "\n",
    "process2 = functools.partial(process1, part2=True)\n",
    "puzzle.verify(2, process2)"
   ]
  },
  {
   "cell_type": "markdown",
   "id": "dee8d31a",
   "metadata": {},
   "source": [
    "<a name=\"day12\"></a>\n",
    "## Day 12: Union-Find"
   ]
  },
  {
   "cell_type": "markdown",
   "id": "65b2f5ba",
   "metadata": {},
   "source": [
    "- Part 1: How many programs are in the group that contains program ID 0?\n",
    "\n",
    "- Part 2: How many groups are there in total?"
   ]
  },
  {
   "cell_type": "code",
   "execution_count": 48,
   "id": "916ca6e6",
   "metadata": {
    "execution": {
     "iopub.execute_input": "2022-11-02T19:21:58.534489Z",
     "iopub.status.busy": "2022-11-02T19:21:58.534223Z",
     "iopub.status.idle": "2022-11-02T19:21:58.552535Z",
     "shell.execute_reply": "2022-11-02T19:21:58.552047Z",
     "shell.execute_reply.started": "2022-11-02T19:21:58.534474Z"
    },
    "tags": []
   },
   "outputs": [
    {
     "data": {
      "text/markdown": [
       "For [day 12](https://adventofcode.com/2017/day/12), `puzzle.input` has 2_000 lines:"
      ],
      "text/plain": [
       "<IPython.core.display.Markdown object>"
      ]
     },
     "metadata": {},
     "output_type": "display_data"
    },
    {
     "name": "stdout",
     "output_type": "stream",
     "text": [
      "0 <-> 584, 830\n",
      "1 <-> 415, 531\n",
      "2 <-> 514, 1419\n",
      "3 <-> 3\n",
      "4 <-> 1043\n",
      "5 <-> 440\n",
      "6 <-> 452, 1651, 1861\n",
      "7 <-> 368, 783, 1364\n",
      " ...\n",
      "1996 <-> 95, 1996\n",
      "1997 <-> 510, 796\n",
      "1998 <-> 626\n",
      "1999 <-> 964, 1568\n"
     ]
    },
    {
     "data": {
      "text/markdown": [
       "The stored answers are: `{1: '113', 2: '202'}`"
      ],
      "text/plain": [
       "<IPython.core.display.Markdown object>"
      ]
     },
     "metadata": {},
     "output_type": "display_data"
    }
   ],
   "source": [
    "puzzle = advent.puzzle(day=12)"
   ]
  },
  {
   "cell_type": "code",
   "execution_count": 49,
   "id": "45a6f56e-43fc-4ddc-adcc-0541ff7fe263",
   "metadata": {
    "execution": {
     "iopub.execute_input": "2022-11-02T19:21:58.553312Z",
     "iopub.status.busy": "2022-11-02T19:21:58.553102Z",
     "iopub.status.idle": "2022-11-02T19:21:58.561149Z",
     "shell.execute_reply": "2022-11-02T19:21:58.560525Z",
     "shell.execute_reply.started": "2022-11-02T19:21:58.553300Z"
    },
    "tags": []
   },
   "outputs": [],
   "source": [
    "s1 = \"\"\"\n",
    "0 <-> 2\n",
    "1 <-> 1\n",
    "2 <-> 0, 3, 4\n",
    "3 <-> 2, 4\n",
    "4 <-> 2, 3, 6\n",
    "5 <-> 6\n",
    "6 <-> 4, 5\n",
    "\"\"\""
   ]
  },
  {
   "cell_type": "code",
   "execution_count": 50,
   "id": "89908866",
   "metadata": {
    "execution": {
     "iopub.execute_input": "2022-11-02T19:21:58.562038Z",
     "iopub.status.busy": "2022-11-02T19:21:58.561884Z",
     "iopub.status.idle": "2022-11-02T19:21:58.592884Z",
     "shell.execute_reply": "2022-11-02T19:21:58.592258Z",
     "shell.execute_reply.started": "2022-11-02T19:21:58.562025Z"
    },
    "tags": []
   },
   "outputs": [
    {
     "name": "stdout",
     "output_type": "stream",
     "text": [
      "(Part 1: 0.005 s)\n",
      "(Part 2: 0.003 s)\n"
     ]
    }
   ],
   "source": [
    "def process1(s, part2=False):\n",
    "  union_find = hh.UnionFind[str]()\n",
    "  nodes = []\n",
    "  for line in s.strip('\\n').split('\\n'):\n",
    "    node1, rest = line.split(' <-> ')\n",
    "    nodes.append(node1)\n",
    "    for node2 in rest.split(', '):\n",
    "      union_find.union(node1, node2)\n",
    "\n",
    "  if not part2:\n",
    "    num_in_group_of_0 = sum(union_find.same('0', node) for node in nodes)\n",
    "    return num_in_group_of_0\n",
    "\n",
    "  num_groups = len(set(union_find.find(node) for node in nodes))\n",
    "  return num_groups\n",
    "\n",
    "\n",
    "check_eq(process1(s1), 6)\n",
    "puzzle.verify(1, process1)\n",
    "\n",
    "process2 = functools.partial(process1, part2=True)\n",
    "check_eq(process2(s1), 2)\n",
    "puzzle.verify(2, process2)"
   ]
  },
  {
   "cell_type": "markdown",
   "id": "c056e427",
   "metadata": {},
   "source": [
    "<a name=\"day13\"></a>\n",
    "## Day 13: Layers of scanners"
   ]
  },
  {
   "cell_type": "markdown",
   "id": "0353dbef",
   "metadata": {},
   "source": [
    "- Part 1: What is the severity of your whole trip?\n",
    "\n",
    "- Part 2: What is the fewest number of picoseconds that you need to delay the packet to pass through the firewall without being caught?"
   ]
  },
  {
   "cell_type": "code",
   "execution_count": 51,
   "id": "decf839d",
   "metadata": {
    "execution": {
     "iopub.execute_input": "2022-11-02T19:21:58.594040Z",
     "iopub.status.busy": "2022-11-02T19:21:58.593712Z",
     "iopub.status.idle": "2022-11-02T19:21:58.612975Z",
     "shell.execute_reply": "2022-11-02T19:21:58.612425Z",
     "shell.execute_reply.started": "2022-11-02T19:21:58.594025Z"
    },
    "tags": []
   },
   "outputs": [
    {
     "data": {
      "text/markdown": [
       "For [day 13](https://adventofcode.com/2017/day/13), `puzzle.input` has 43 lines:"
      ],
      "text/plain": [
       "<IPython.core.display.Markdown object>"
      ]
     },
     "metadata": {},
     "output_type": "display_data"
    },
    {
     "name": "stdout",
     "output_type": "stream",
     "text": [
      "0: 3\n",
      "1: 2\n",
      "2: 4\n",
      "4: 4\n",
      "6: 5\n",
      "8: 6\n",
      "10: 6\n",
      "12: 6\n",
      " ...\n",
      "80: 18\n",
      "88: 20\n",
      "90: 14\n",
      "98: 17\n"
     ]
    },
    {
     "data": {
      "text/markdown": [
       "The stored answers are: `{1: '1900', 2: '3966414'}`"
      ],
      "text/plain": [
       "<IPython.core.display.Markdown object>"
      ]
     },
     "metadata": {},
     "output_type": "display_data"
    }
   ],
   "source": [
    "puzzle = advent.puzzle(day=13)"
   ]
  },
  {
   "cell_type": "code",
   "execution_count": 52,
   "id": "13883de6-2a00-45eb-a8e4-28a4483d38ba",
   "metadata": {
    "execution": {
     "iopub.execute_input": "2022-11-02T19:21:58.614122Z",
     "iopub.status.busy": "2022-11-02T19:21:58.613652Z",
     "iopub.status.idle": "2022-11-02T19:21:58.624009Z",
     "shell.execute_reply": "2022-11-02T19:21:58.623452Z",
     "shell.execute_reply.started": "2022-11-02T19:21:58.614107Z"
    },
    "tags": []
   },
   "outputs": [],
   "source": [
    "s1 = \"\"\"\n",
    "0: 3\n",
    "1: 2\n",
    "4: 4\n",
    "6: 4\n",
    "\"\"\""
   ]
  },
  {
   "cell_type": "code",
   "execution_count": 53,
   "id": "83e2a93d",
   "metadata": {
    "execution": {
     "iopub.execute_input": "2022-11-02T19:21:58.624850Z",
     "iopub.status.busy": "2022-11-02T19:21:58.624684Z",
     "iopub.status.idle": "2022-11-02T19:21:58.642801Z",
     "shell.execute_reply": "2022-11-02T19:21:58.642240Z",
     "shell.execute_reply.started": "2022-11-02T19:21:58.624836Z"
    },
    "tags": []
   },
   "outputs": [
    {
     "name": "stdout",
     "output_type": "stream",
     "text": [
      "(Part 1: 0.001 s)\n"
     ]
    }
   ],
   "source": [
    "def process1(s):  # Supports Part 1 only.\n",
    "  range_of_depth = {}\n",
    "  for line in s.strip('\\n').split('\\n'):\n",
    "    s1, s2 = line.split(': ')\n",
    "    depth, range_ = int(s1), int(s2)\n",
    "    assert depth >= 0 and range_ >= 2\n",
    "    range_of_depth[depth] = range_\n",
    "\n",
    "  max_depth = max(range_of_depth.keys())\n",
    "  scanner_pos = {depth: 0 for depth in range_of_depth}\n",
    "  scanner_inc = {depth: +1 for depth in range_of_depth}\n",
    "\n",
    "  total_severity = 0\n",
    "  for depth in range(max_depth + 1):\n",
    "    if scanner_pos.get(depth) == 0:\n",
    "      severity = depth * range_of_depth[depth]\n",
    "      total_severity += severity\n",
    "    for depth in scanner_pos:\n",
    "      scanner_pos[depth] += scanner_inc[depth]\n",
    "      if scanner_pos[depth] in (0, range_of_depth[depth] - 1):\n",
    "        scanner_inc[depth] = -scanner_inc[depth]\n",
    "\n",
    "  return total_severity\n",
    "\n",
    "\n",
    "check_eq(process1(s1), 24)\n",
    "puzzle.verify(1, process1)"
   ]
  },
  {
   "cell_type": "code",
   "execution_count": 54,
   "id": "2ec72ba7-8a35-4c15-bd4e-938a2154cca8",
   "metadata": {
    "execution": {
     "iopub.execute_input": "2022-11-02T19:21:58.643912Z",
     "iopub.status.busy": "2022-11-02T19:21:58.643500Z",
     "iopub.status.idle": "2022-11-02T19:21:58.656989Z",
     "shell.execute_reply": "2022-11-02T19:21:58.656417Z",
     "shell.execute_reply.started": "2022-11-02T19:21:58.643895Z"
    },
    "tags": []
   },
   "outputs": [],
   "source": [
    "def process2(s):  # Brute-force simplistic approach.\n",
    "  range_of_depth = {}\n",
    "  for line in s.strip('\\n').split('\\n'):\n",
    "    s1, s2 = line.split(': ')\n",
    "    depth, range_ = int(s1), int(s2)\n",
    "    range_of_depth[depth] = range_\n",
    "  max_depth = max(range_of_depth.keys())\n",
    "  scanner_pos0 = {depth: 0 for depth in range_of_depth}\n",
    "  scanner_inc0 = {depth: +1 for depth in range_of_depth}\n",
    "\n",
    "  for delay in itertools.count():\n",
    "    scanner_pos = scanner_pos0.copy()\n",
    "    scanner_inc = scanner_inc0.copy()\n",
    "\n",
    "    ok = True\n",
    "    for depth in range(max_depth + 1):\n",
    "      if scanner_pos.get(depth) == 0:\n",
    "        ok = False\n",
    "        break\n",
    "      for depth in scanner_pos:\n",
    "        scanner_pos[depth] += scanner_inc[depth]\n",
    "        if scanner_pos[depth] in (0, range_of_depth[depth] - 1):\n",
    "          scanner_inc[depth] = -scanner_inc[depth]\n",
    "\n",
    "    if ok:\n",
    "      return delay\n",
    "\n",
    "    for depth in scanner_pos0:\n",
    "      scanner_pos0[depth] += scanner_inc0[depth]\n",
    "      if scanner_pos0[depth] in (0, range_of_depth[depth] - 1):\n",
    "        scanner_inc0[depth] = -scanner_inc0[depth]\n",
    "\n",
    "\n",
    "check_eq(process2(s1), 10)\n",
    "if 0:\n",
    "  puzzle.verify(2, process2)  # ~56 s (e.g. result 3966414)"
   ]
  },
  {
   "cell_type": "code",
   "execution_count": 55,
   "id": "49c8a5a7-7cde-4bf8-b748-72fa0bbf3805",
   "metadata": {
    "execution": {
     "iopub.execute_input": "2022-11-02T19:21:58.658163Z",
     "iopub.status.busy": "2022-11-02T19:21:58.657678Z",
     "iopub.status.idle": "2022-11-02T19:21:58.679197Z",
     "shell.execute_reply": "2022-11-02T19:21:58.678552Z",
     "shell.execute_reply.started": "2022-11-02T19:21:58.658147Z"
    },
    "tags": []
   },
   "outputs": [],
   "source": [
    "def process2(s):  # Use numpy but one delay at a time.\n",
    "  scanners = np.array([list(map(int, line.split(': '))) for line in s.strip('\\n').split('\\n')])\n",
    "  depth, period = scanners[:, 0], (scanners[:, 1] - 1) * 2\n",
    "  for delay in itertools.count():\n",
    "    if np.all((delay + depth) % period):\n",
    "      return delay\n",
    "\n",
    "check_eq(process2(s1), 10)\n",
    "if 0:\n",
    "  puzzle.verify(2, process2)  # ~11 s."
   ]
  },
  {
   "cell_type": "code",
   "execution_count": 56,
   "id": "11ee4b15-ae7c-42f5-8bfc-af137701dc2e",
   "metadata": {
    "execution": {
     "iopub.execute_input": "2022-11-02T19:21:58.680664Z",
     "iopub.status.busy": "2022-11-02T19:21:58.680091Z",
     "iopub.status.idle": "2022-11-02T19:21:59.243439Z",
     "shell.execute_reply": "2022-11-02T19:21:59.242904Z",
     "shell.execute_reply.started": "2022-11-02T19:21:58.680643Z"
    },
    "tags": []
   },
   "outputs": [
    {
     "name": "stdout",
     "output_type": "stream",
     "text": [
      "(Part 2: 0.545 s)\n"
     ]
    }
   ],
   "source": [
    "def process2(s, chunk=3_000):  # Use numpy vectorized over chunks of delays.\n",
    "  scanners = np.array([list(map(int, line.split(': '))) for line in s.strip('\\n').split('\\n')])\n",
    "  depth, period = scanners[:, 0], (scanners[:, 1] - 1) * 2\n",
    "  for index in itertools.count():\n",
    "    delay = np.arange(index * chunk, (index + 1) * chunk)\n",
    "    matrix = (delay[:, None] + depth) % period\n",
    "    indices = np.argwhere(np.all(matrix, axis=1))\n",
    "    if len(indices):\n",
    "      return delay[0] + indices[0][0]\n",
    "\n",
    "check_eq(process2(s1), 10)\n",
    "puzzle.verify(2, process2)  # ~0.5 s."
   ]
  },
  {
   "cell_type": "code",
   "execution_count": 57,
   "id": "650fe190-4498-4df8-88c6-900e4579e895",
   "metadata": {
    "execution": {
     "iopub.execute_input": "2022-11-02T19:21:59.244610Z",
     "iopub.status.busy": "2022-11-02T19:21:59.244234Z",
     "iopub.status.idle": "2022-11-02T19:21:59.652195Z",
     "shell.execute_reply": "2022-11-02T19:21:59.651525Z",
     "shell.execute_reply.started": "2022-11-02T19:21:59.244594Z"
    },
    "tags": []
   },
   "outputs": [
    {
     "name": "stdout",
     "output_type": "stream",
     "text": [
      "(Part 2: 0.400 s)\n"
     ]
    }
   ],
   "source": [
    "def process2(s, chunk=80_000):  # Use numpy sieve, iterating on scanners over chunks of delays.\n",
    "  scanners = np.array([list(map(int, line.split(': '))) for line in s.strip('\\n').split('\\n')])\n",
    "  depth, period = scanners[:, 0], (scanners[:, 1] - 1) * 2\n",
    "  for index in itertools.count():\n",
    "    delay = np.arange(index * chunk, (index + 1) * chunk)\n",
    "    ok = np.full(chunk, True)\n",
    "    for d, p in zip(depth, period):\n",
    "      ok[(delay + d) % p == 0] = False\n",
    "    indices = np.argwhere(ok)\n",
    "    if len(indices):\n",
    "      return delay[0] + indices[0][0]\n",
    "\n",
    "check_eq(process2(s1), 10)\n",
    "puzzle.verify(2, process2)  # ~0.4 s."
   ]
  },
  {
   "cell_type": "code",
   "execution_count": 58,
   "id": "84e08a8d-ca2e-4bc7-99ca-8a29a98d0bf9",
   "metadata": {
    "execution": {
     "iopub.execute_input": "2022-11-02T19:21:59.653137Z",
     "iopub.status.busy": "2022-11-02T19:21:59.652889Z",
     "iopub.status.idle": "2022-11-02T19:21:59.662291Z",
     "shell.execute_reply": "2022-11-02T19:21:59.661789Z",
     "shell.execute_reply.started": "2022-11-02T19:21:59.653124Z"
    },
    "tags": []
   },
   "outputs": [
    {
     "name": "stdout",
     "output_type": "stream",
     "text": [
      "(Part 2: 0.005 s)\n"
     ]
    }
   ],
   "source": [
    "def process2(s, chunk=100_000):  # Use numpy sieve (~Eratosthenes) with array slices.\n",
    "  scanners = np.array([list(map(int, line.split(': '))) for line in s.strip('\\n').split('\\n')])\n",
    "  depth, period = scanners[:, 0], (scanners[:, 1] - 1) * 2\n",
    "  for start in itertools.count(0, chunk):\n",
    "    stop = start + chunk\n",
    "    ok = np.full(chunk, True)\n",
    "    for d, p in zip(depth, period):\n",
    "      first = (-(start + d)) % p\n",
    "      ok[first:chunk:p] = False\n",
    "    indices = np.argwhere(ok)\n",
    "    if len(indices):\n",
    "      return start + indices[0][0]\n",
    "\n",
    "check_eq(process2(s1, chunk=4), 10)\n",
    "puzzle.verify(2, process2)  # ~0.005 s."
   ]
  },
  {
   "cell_type": "markdown",
   "id": "06ff889f",
   "metadata": {},
   "source": [
    "<a name=\"day14\"></a>\n",
    "## Day 14: Grid from knot hash"
   ]
  },
  {
   "cell_type": "markdown",
   "id": "2ca89753",
   "metadata": {},
   "source": [
    "- Part 1: How many squares are used?\n",
    "\n",
    "- Part 2: How many regions are present?"
   ]
  },
  {
   "cell_type": "code",
   "execution_count": 59,
   "id": "14d3bd77",
   "metadata": {
    "execution": {
     "iopub.execute_input": "2022-11-02T19:21:59.663129Z",
     "iopub.status.busy": "2022-11-02T19:21:59.662922Z",
     "iopub.status.idle": "2022-11-02T19:21:59.680973Z",
     "shell.execute_reply": "2022-11-02T19:21:59.680329Z",
     "shell.execute_reply.started": "2022-11-02T19:21:59.663114Z"
    },
    "lines_to_next_cell": 1,
    "tags": []
   },
   "outputs": [
    {
     "data": {
      "text/markdown": [
       "For [day 14](https://adventofcode.com/2017/day/14), `puzzle.input` has a single line of 8 characters:"
      ],
      "text/plain": [
       "<IPython.core.display.Markdown object>"
      ]
     },
     "metadata": {},
     "output_type": "display_data"
    },
    {
     "name": "stdout",
     "output_type": "stream",
     "text": [
      "vbqugkhl\n"
     ]
    },
    {
     "data": {
      "text/markdown": [
       "The stored answers are: `{1: '8148', 2: '1180'}`"
      ],
      "text/plain": [
       "<IPython.core.display.Markdown object>"
      ]
     },
     "metadata": {},
     "output_type": "display_data"
    }
   ],
   "source": [
    "puzzle = advent.puzzle(day=14)"
   ]
  },
  {
   "cell_type": "code",
   "execution_count": 60,
   "id": "0d23c6f4",
   "metadata": {
    "execution": {
     "iopub.execute_input": "2022-11-02T19:21:59.681936Z",
     "iopub.status.busy": "2022-11-02T19:21:59.681642Z",
     "iopub.status.idle": "2022-11-02T19:22:00.756656Z",
     "shell.execute_reply": "2022-11-02T19:22:00.756069Z",
     "shell.execute_reply.started": "2022-11-02T19:21:59.681922Z"
    },
    "tags": []
   },
   "outputs": [
    {
     "name": "stdout",
     "output_type": "stream",
     "text": [
      "(Part 1: 0.256 s)\n",
      "(Part 2: 0.281 s)\n"
     ]
    }
   ],
   "source": [
    "def process1(s, part2=False, visualize=False):\n",
    "  s = s.strip('\\n')\n",
    "\n",
    "  def knot_hash(s: str, num: int = 256, num_rounds: int = 64) -> list[int]:\n",
    "    lengths = [ord(ch) for ch in s] + [17, 31, 73, 47, 23]\n",
    "    state = list(range(num))\n",
    "    position = 0\n",
    "    skip = 0\n",
    "    for round_index in range(num_rounds):\n",
    "      for length in lengths:\n",
    "        assert length <= num\n",
    "        rotated = state[position:] + state[:position] if position else state\n",
    "        rotated[:length] = reversed(rotated[:length])\n",
    "        state = rotated[-position:] + rotated[:-position] if position else rotated\n",
    "        position = (position + length + skip) % num\n",
    "        skip += 1\n",
    "    return [functools.reduce(operator.xor, group, 0) for group in hh.grouped(state, 16)]\n",
    "\n",
    "  shape = 128, 128\n",
    "  grid = np.full(shape, 0)\n",
    "  for row in range(shape[0]):\n",
    "    values = knot_hash(f'{s}-{row}')\n",
    "    bits = ''.join(f'{value:08b}' for value in values)\n",
    "    grid[row] = np.array(list(bits)) == '1'\n",
    "\n",
    "  if not part2:\n",
    "    # hh.show(grid[:8, :8])\n",
    "    if visualize:\n",
    "      media.show_image(grid.repeat(2, axis=0).repeat(2, axis=1) == 0, border=True)\n",
    "    return np.sum(grid)\n",
    "\n",
    "  union_find = hh.UnionFind[int]()\n",
    "  for y, x in np.ndindex(shape):\n",
    "    if grid[y, x]:\n",
    "      for y2, x2 in ((y + 1, x), (y, x + 1)):\n",
    "        if y2 < shape[0] and x2 < shape[1] and grid[y2, x2]:\n",
    "          union_find.union((y, x), (y2, x2))\n",
    "\n",
    "  return len(set(union_find.find(yx) for yx in np.ndindex(shape) if grid[yx]))\n",
    "\n",
    "\n",
    "check_eq(process1('flqrgnkx'), 8108)\n",
    "puzzle.verify(1, process1)\n",
    "\n",
    "process2 = functools.partial(process1, part2=True)\n",
    "check_eq(process2('flqrgnkx'), 1242)\n",
    "puzzle.verify(2, process2)"
   ]
  },
  {
   "cell_type": "code",
   "execution_count": 61,
   "id": "3696f7fe-1b40-496c-926e-193b48a11233",
   "metadata": {
    "execution": {
     "iopub.execute_input": "2022-11-02T19:22:00.757603Z",
     "iopub.status.busy": "2022-11-02T19:22:00.757323Z",
     "iopub.status.idle": "2022-11-02T19:22:01.030769Z",
     "shell.execute_reply": "2022-11-02T19:22:01.030193Z",
     "shell.execute_reply.started": "2022-11-02T19:22:00.757589Z"
    },
    "tags": []
   },
   "outputs": [
    {
     "data": {
      "text/html": [
       "<table class=\"show_images\" style=\"border-spacing:0px;\"><tr><td style=\"padding:1px;\"><img width=\"256\" height=\"256\" style=\"border:1px solid black; image-rendering:pixelated; object-fit:cover;\" src=\"data:image/png;base64,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\"/></td></tr></table>"
      ],
      "text/plain": [
       "<IPython.core.display.HTML object>"
      ]
     },
     "metadata": {},
     "output_type": "display_data"
    }
   ],
   "source": [
    "_ = process1(puzzle.input, visualize=True)"
   ]
  },
  {
   "cell_type": "markdown",
   "id": "f6a8bdc6",
   "metadata": {},
   "source": [
    "<a name=\"day15\"></a>\n",
    "## Day 15: Dueling generators"
   ]
  },
  {
   "cell_type": "markdown",
   "id": "6abb1de8",
   "metadata": {},
   "source": [
    "- Part 1: After 40 million pairs, what is the judge's final count?\n",
    "\n",
    "- Part 2: After 5 million pairs, but using this new generator logic, what is the judge's final count?"
   ]
  },
  {
   "cell_type": "code",
   "execution_count": 62,
   "id": "d1697de9",
   "metadata": {
    "execution": {
     "iopub.execute_input": "2022-11-02T19:22:01.031595Z",
     "iopub.status.busy": "2022-11-02T19:22:01.031430Z",
     "iopub.status.idle": "2022-11-02T19:22:01.041383Z",
     "shell.execute_reply": "2022-11-02T19:22:01.040667Z",
     "shell.execute_reply.started": "2022-11-02T19:22:01.031582Z"
    },
    "tags": []
   },
   "outputs": [
    {
     "data": {
      "text/markdown": [
       "For [day 15](https://adventofcode.com/2017/day/15), `puzzle.input` has 2 lines:"
      ],
      "text/plain": [
       "<IPython.core.display.Markdown object>"
      ]
     },
     "metadata": {},
     "output_type": "display_data"
    },
    {
     "name": "stdout",
     "output_type": "stream",
     "text": [
      "Generator A starts with 618\n",
      "Generator B starts with 814\n"
     ]
    },
    {
     "data": {
      "text/markdown": [
       "The stored answers are: `{1: '577', 2: '316'}`"
      ],
      "text/plain": [
       "<IPython.core.display.Markdown object>"
      ]
     },
     "metadata": {},
     "output_type": "display_data"
    }
   ],
   "source": [
    "puzzle = advent.puzzle(day=15)"
   ]
  },
  {
   "cell_type": "code",
   "execution_count": 63,
   "id": "bdfb5963-0a84-4d75-9a3c-247bed86319e",
   "metadata": {
    "execution": {
     "iopub.execute_input": "2022-11-02T19:22:01.042811Z",
     "iopub.status.busy": "2022-11-02T19:22:01.042297Z",
     "iopub.status.idle": "2022-11-02T19:22:01.050473Z",
     "shell.execute_reply": "2022-11-02T19:22:01.049858Z",
     "shell.execute_reply.started": "2022-11-02T19:22:01.042790Z"
    }
   },
   "outputs": [],
   "source": [
    "s1 = \"\"\"\n",
    "Generator A starts with 65\n",
    "Generator B starts with 8921\n",
    "\"\"\""
   ]
  },
  {
   "cell_type": "code",
   "execution_count": 64,
   "id": "dfa513d9",
   "metadata": {
    "execution": {
     "iopub.execute_input": "2022-11-02T19:22:01.051714Z",
     "iopub.status.busy": "2022-11-02T19:22:01.051240Z",
     "iopub.status.idle": "2022-11-02T19:22:01.774710Z",
     "shell.execute_reply": "2022-11-02T19:22:01.774118Z",
     "shell.execute_reply.started": "2022-11-02T19:22:01.051697Z"
    },
    "tags": []
   },
   "outputs": [
    {
     "name": "stdout",
     "output_type": "stream",
     "text": [
      "(Part 1: 0.141 s)\n",
      "(Part 2: 0.208 s)\n"
     ]
    }
   ],
   "source": [
    "def process1(s, part2=False):\n",
    "  state0, state1 = (int(line.split(' starts with ')[1]) for line in s.strip('\\n').split('\\n'))\n",
    "\n",
    "  @numba_njit(cache=True)\n",
    "  def compute(state0: int, state1: int) -> int:\n",
    "    FACTOR0, FACTOR1 = 16807, 48271\n",
    "    num_matches = 0\n",
    "    num_checks = 5_000_000 if part2 else 40_000_000\n",
    "    for index in range(num_checks):\n",
    "      while True:\n",
    "        state0 = (state0 * FACTOR0) % 2147483647\n",
    "        if not part2 or state0 & 3 == 0:\n",
    "          break\n",
    "      while True:\n",
    "        state1 = (state1 * FACTOR1) % 2147483647\n",
    "        if not part2 or state1 & 7 == 0:\n",
    "          break\n",
    "      num_matches += (state0 & 65535) == (state1 & 65535)\n",
    "    return num_matches\n",
    "\n",
    "  return compute(state0, state1)\n",
    "\n",
    "\n",
    "check_eq(process1(s1), 588)\n",
    "puzzle.verify(1, process1)\n",
    "\n",
    "process2 = functools.partial(process1, part2=True)\n",
    "check_eq(process2(s1), 309)\n",
    "puzzle.verify(2, process2)"
   ]
  },
  {
   "cell_type": "markdown",
   "id": "fc04d6fd",
   "metadata": {},
   "source": [
    "<a name=\"day16\"></a>\n",
    "## Day 16: Permutation dance"
   ]
  },
  {
   "cell_type": "markdown",
   "id": "ac90307e",
   "metadata": {},
   "source": [
    "- Part 1: In what order are the programs standing after their dance?\n",
    "\n",
    "- Part 2: In what order are the programs standing after their billion dances?"
   ]
  },
  {
   "cell_type": "code",
   "execution_count": 65,
   "id": "de9171cf",
   "metadata": {
    "execution": {
     "iopub.execute_input": "2022-11-02T19:22:01.775572Z",
     "iopub.status.busy": "2022-11-02T19:22:01.775382Z",
     "iopub.status.idle": "2022-11-02T19:22:01.784222Z",
     "shell.execute_reply": "2022-11-02T19:22:01.783704Z",
     "shell.execute_reply.started": "2022-11-02T19:22:01.775560Z"
    },
    "lines_to_next_cell": 1,
    "tags": []
   },
   "outputs": [
    {
     "data": {
      "text/markdown": [
       "For [day 16](https://adventofcode.com/2017/day/16), `puzzle.input` has a single line of 48_576 characters:"
      ],
      "text/plain": [
       "<IPython.core.display.Markdown object>"
      ]
     },
     "metadata": {},
     "output_type": "display_data"
    },
    {
     "name": "stdout",
     "output_type": "stream",
     "text": [
      "x3/10,pl/g,s9,x6/15,s10,x9/1,pi/c,x4/10,s15,x13/7,s7,x11/6,s14,x5/7,pj/b,x15/9,s ... 3,x4/3,pc/n,x10/7,pa/b,s11,x13/4,s9\n"
     ]
    },
    {
     "data": {
      "text/markdown": [
       "The stored answers are: `{1: 'olgejankfhbmpidc', 2: 'gfabehpdojkcimnl'}`"
      ],
      "text/plain": [
       "<IPython.core.display.Markdown object>"
      ]
     },
     "metadata": {},
     "output_type": "display_data"
    }
   ],
   "source": [
    "puzzle = advent.puzzle(day=16)"
   ]
  },
  {
   "cell_type": "code",
   "execution_count": 66,
   "id": "f42431c3",
   "metadata": {
    "execution": {
     "iopub.execute_input": "2022-11-02T19:22:01.785057Z",
     "iopub.status.busy": "2022-11-02T19:22:01.784824Z",
     "iopub.status.idle": "2022-11-02T19:22:01.799180Z",
     "shell.execute_reply": "2022-11-02T19:22:01.798667Z",
     "shell.execute_reply.started": "2022-11-02T19:22:01.785046Z"
    },
    "tags": []
   },
   "outputs": [
    {
     "name": "stdout",
     "output_type": "stream",
     "text": [
      "(Part 1: 0.005 s)\n"
     ]
    }
   ],
   "source": [
    "def process1(s, num=16):  # Simpler version supporting only Part 1.\n",
    "  state = [chr(ord('a') + i) for i in range(num)]\n",
    "\n",
    "  for move in s.strip('\\n').split(','):\n",
    "    operation, operands = move[0], move[1:]\n",
    "    if operation == 's':\n",
    "      size = int(operands)\n",
    "      assert 1 <= size < num\n",
    "      state = state[-size:] + state[:-size]\n",
    "    elif operation == 'x':\n",
    "      pos0, pos1 = (int(s2) for s2 in operands.split('/'))\n",
    "      state[pos0], state[pos1] = state[pos1], state[pos0]\n",
    "    elif operation == 'p':\n",
    "      ch0, ch1 = operands.split('/')\n",
    "      index0, index1 = state.index(ch0), state.index(ch1)\n",
    "      state[index0], state[index1] = ch1, ch0\n",
    "    else:\n",
    "      raise AssertionError\n",
    "\n",
    "  return ''.join(state)\n",
    "\n",
    "\n",
    "check_eq(process1('s1,x3/4,pe/b', num=5), 'baedc')\n",
    "puzzle.verify(1, process1)  # e.g. 'olgejankfhbmpidc'"
   ]
  },
  {
   "cell_type": "code",
   "execution_count": 67,
   "id": "f080d827-fd65-4dfa-8593-d1be89e37fbe",
   "metadata": {
    "execution": {
     "iopub.execute_input": "2022-11-02T19:22:01.800332Z",
     "iopub.status.busy": "2022-11-02T19:22:01.799985Z",
     "iopub.status.idle": "2022-11-02T19:22:01.832567Z",
     "shell.execute_reply": "2022-11-02T19:22:01.831896Z",
     "shell.execute_reply.started": "2022-11-02T19:22:01.800315Z"
    },
    "tags": []
   },
   "outputs": [
    {
     "name": "stdout",
     "output_type": "stream",
     "text": [
      "(Part 1: 0.009 s)\n",
      "(Part 2: 0.008 s)\n"
     ]
    }
   ],
   "source": [
    "def process1(s, num=16, num_permutations=1):\n",
    "  # We track two permutations: a permutation on symbols, and a permutation on positions.\n",
    "  perm_sym = list(range(num))  # Destination sym for each source sym.\n",
    "  perm_pos = list(range(num))  # Destination pos for each source pos.\n",
    "\n",
    "  for move in s.strip('\\n').split(','):\n",
    "    operation, operands = move[0], move[1:]\n",
    "    if operation == 'p':\n",
    "      sym0, sym1 = (ord(ch) - ord('a') for ch in operands.split('/'))\n",
    "      index0, index1 = perm_sym.index(sym0), perm_sym.index(sym1)\n",
    "      perm_sym[index0], perm_sym[index1] = sym1, sym0\n",
    "    elif operation == 's':\n",
    "      size = int(operands)\n",
    "      assert 1 <= size < num\n",
    "      for i, pos in enumerate(perm_pos):\n",
    "        perm_pos[i] = pos + (size if pos < num - size else size - num)\n",
    "    elif operation == 'x':\n",
    "      pos0, pos1 = (int(s2) for s2 in operands.split('/'))\n",
    "      index0, index1 = perm_pos.index(pos0), perm_pos.index(pos1)\n",
    "      perm_pos[index0], perm_pos[index1] = pos1, pos0\n",
    "    else:\n",
    "      raise AssertionError\n",
    "\n",
    "  def evaluate(perm_sym: list[int], perm_pos: list[int]) -> str:\n",
    "    # Invert permutation using https://stackoverflow.com/a/11649931.\n",
    "    return ''.join(chr(perm_sym[i] + ord('a')) for i in np.argsort(perm_pos))  # ??\n",
    "\n",
    "  @functools.lru_cache(None)\n",
    "  def compose(num_permutations: int) -> tuple(list(int), list(int)):\n",
    "    if num_permutations == 1:\n",
    "      return perm_sym, perm_pos\n",
    "    num0, num1 = (num_permutations + 1) // 2, num_permutations // 2\n",
    "    (perm_sym0, perm_pos0), (perm_sym1, perm_pos1) = compose(num0), compose(num1)\n",
    "    return ([perm_sym1[sym0] for sym0 in perm_sym0],\n",
    "            [perm_pos1[pos0] for pos0 in perm_pos0])\n",
    "\n",
    "  return evaluate(*compose(num_permutations))\n",
    "\n",
    "\n",
    "check_eq(process1('s1,x3/4,pe/b', num=5), 'baedc')\n",
    "puzzle.verify(1, process1)  # e.g. 'olgejankfhbmpidc'\n",
    "\n",
    "process2 = functools.partial(process1, num_permutations=1_000_000_000)\n",
    "check_eq(process2('s1,x3/4,pe/b', num=5, num_permutations=2), 'ceadb')\n",
    "puzzle.verify(2, process2)"
   ]
  },
  {
   "cell_type": "markdown",
   "id": "a5417628",
   "metadata": {},
   "source": [
    "<a name=\"day17\"></a>\n",
    "## Day 17: Circular buffer"
   ]
  },
  {
   "cell_type": "markdown",
   "id": "e4abcddb",
   "metadata": {},
   "source": [
    "- Part 1: What is the value after 2017 in your completed circular buffer?\n",
    "\n",
    "- Part 2: What is the value after 0 the moment 50000000 is inserted?"
   ]
  },
  {
   "cell_type": "code",
   "execution_count": 68,
   "id": "a5aae1e0",
   "metadata": {
    "execution": {
     "iopub.execute_input": "2022-11-02T19:22:01.833992Z",
     "iopub.status.busy": "2022-11-02T19:22:01.833460Z",
     "iopub.status.idle": "2022-11-02T19:22:01.851521Z",
     "shell.execute_reply": "2022-11-02T19:22:01.851081Z",
     "shell.execute_reply.started": "2022-11-02T19:22:01.833972Z"
    },
    "lines_to_next_cell": 1,
    "tags": []
   },
   "outputs": [
    {
     "data": {
      "text/markdown": [
       "For [day 17](https://adventofcode.com/2017/day/17), `puzzle.input` has a single line of 3 characters:"
      ],
      "text/plain": [
       "<IPython.core.display.Markdown object>"
      ]
     },
     "metadata": {},
     "output_type": "display_data"
    },
    {
     "name": "stdout",
     "output_type": "stream",
     "text": [
      "349\n"
     ]
    },
    {
     "data": {
      "text/markdown": [
       "The stored answers are: `{1: '640', 2: '47949463'}`"
      ],
      "text/plain": [
       "<IPython.core.display.Markdown object>"
      ]
     },
     "metadata": {},
     "output_type": "display_data"
    }
   ],
   "source": [
    "puzzle = advent.puzzle(day=17)"
   ]
  },
  {
   "cell_type": "code",
   "execution_count": 69,
   "id": "ccc7931a",
   "metadata": {
    "execution": {
     "iopub.execute_input": "2022-11-02T19:22:01.852375Z",
     "iopub.status.busy": "2022-11-02T19:22:01.852209Z",
     "iopub.status.idle": "2022-11-02T19:22:02.032487Z",
     "shell.execute_reply": "2022-11-02T19:22:02.031896Z",
     "shell.execute_reply.started": "2022-11-02T19:22:01.852363Z"
    },
    "tags": []
   },
   "outputs": [
    {
     "name": "stdout",
     "output_type": "stream",
     "text": [
      "(Part 1: 0.006 s)\n",
      "(Part 2: 0.158 s)\n"
     ]
    }
   ],
   "source": [
    "def process1(s, part2=False):\n",
    "  step = int(s.strip('\\n'))\n",
    "  assert step > 0\n",
    "\n",
    "  if not part2:\n",
    "    pos = 0\n",
    "    state = [0]\n",
    "\n",
    "    for index in range(2017):\n",
    "      pos = (pos + step) % len(state)\n",
    "      state = state[:pos + 1] + [index + 1] + state[pos + 1:]\n",
    "      pos = pos + 1\n",
    "\n",
    "    return state[pos + 1]\n",
    "\n",
    "  @numba_njit(cache=True)  # ~2.6 s -> ~0.16 s.\n",
    "  def compute_part2():\n",
    "    pos = 0\n",
    "    after_zero = -1\n",
    "\n",
    "    for index in range(1, 50_000_000 + 1):\n",
    "      pos = (pos + step) % index + 1\n",
    "      if pos == 1:\n",
    "        after_zero = index\n",
    "\n",
    "    return after_zero\n",
    "\n",
    "  return compute_part2()\n",
    "\n",
    "\n",
    "check_eq(process1('3'), 638)\n",
    "puzzle.verify(1, process1)\n",
    "\n",
    "process2 = functools.partial(process1, part2=True)\n",
    "puzzle.verify(2, process2)"
   ]
  },
  {
   "cell_type": "markdown",
   "id": "fb30a53d",
   "metadata": {},
   "source": [
    "<a name=\"day18\"></a>\n",
    "## Day 18: Two async programs"
   ]
  },
  {
   "cell_type": "markdown",
   "id": "52ca8517",
   "metadata": {},
   "source": [
    "- Part 1: What is the value of the recovered frequency (the value of the most recently played sound) the first time a rcv instruction is executed with a non-zero value?\n",
    "\n",
    "- Part 2: Once both of your programs have terminated (regardless of what caused them to do so), how many times did program 1 send a value?"
   ]
  },
  {
   "cell_type": "code",
   "execution_count": 70,
   "id": "417456ce",
   "metadata": {
    "execution": {
     "iopub.execute_input": "2022-11-02T19:22:02.033701Z",
     "iopub.status.busy": "2022-11-02T19:22:02.033242Z",
     "iopub.status.idle": "2022-11-02T19:22:02.042448Z",
     "shell.execute_reply": "2022-11-02T19:22:02.041902Z",
     "shell.execute_reply.started": "2022-11-02T19:22:02.033683Z"
    },
    "tags": []
   },
   "outputs": [
    {
     "data": {
      "text/markdown": [
       "For [day 18](https://adventofcode.com/2017/day/18), `puzzle.input` has 41 lines:"
      ],
      "text/plain": [
       "<IPython.core.display.Markdown object>"
      ]
     },
     "metadata": {},
     "output_type": "display_data"
    },
    {
     "name": "stdout",
     "output_type": "stream",
     "text": [
      "set i 31\n",
      "set a 1\n",
      "mul p 17\n",
      "jgz p p\n",
      "mul a 2\n",
      "add i -1\n",
      "jgz i -2\n",
      "add a -1\n",
      " ...\n",
      "jgz i -11\n",
      "snd a\n",
      "jgz f -16\n",
      "jgz a -19\n"
     ]
    },
    {
     "data": {
      "text/markdown": [
       "The stored answers are: `{1: '2951', 2: '7366'}`"
      ],
      "text/plain": [
       "<IPython.core.display.Markdown object>"
      ]
     },
     "metadata": {},
     "output_type": "display_data"
    }
   ],
   "source": [
    "puzzle = advent.puzzle(day=18)"
   ]
  },
  {
   "cell_type": "code",
   "execution_count": 71,
   "id": "408ec814-6b2c-47d0-94ee-8b1d85967765",
   "metadata": {
    "execution": {
     "iopub.execute_input": "2022-11-02T19:22:02.043344Z",
     "iopub.status.busy": "2022-11-02T19:22:02.043093Z",
     "iopub.status.idle": "2022-11-02T19:22:02.051532Z",
     "shell.execute_reply": "2022-11-02T19:22:02.050849Z",
     "shell.execute_reply.started": "2022-11-02T19:22:02.043328Z"
    },
    "tags": []
   },
   "outputs": [],
   "source": [
    "s1 = \"\"\"\n",
    "set a 1\n",
    "add a 2\n",
    "mul a a\n",
    "mod a 5\n",
    "snd a\n",
    "set a 0\n",
    "rcv a\n",
    "jgz a -1\n",
    "set a 1\n",
    "jgz a -2\n",
    "\"\"\""
   ]
  },
  {
   "cell_type": "code",
   "execution_count": 72,
   "id": "8b5b6841-737a-45a9-86ed-faa841df1d4f",
   "metadata": {
    "execution": {
     "iopub.execute_input": "2022-11-02T19:22:02.052433Z",
     "iopub.status.busy": "2022-11-02T19:22:02.052278Z",
     "iopub.status.idle": "2022-11-02T19:22:02.066756Z",
     "shell.execute_reply": "2022-11-02T19:22:02.065921Z",
     "shell.execute_reply.started": "2022-11-02T19:22:02.052420Z"
    },
    "tags": []
   },
   "outputs": [],
   "source": [
    "s2 = \"\"\"\n",
    "snd 1\n",
    "snd 2\n",
    "snd p\n",
    "rcv a\n",
    "rcv b\n",
    "rcv c\n",
    "rcv d\n",
    "\"\"\""
   ]
  },
  {
   "cell_type": "code",
   "execution_count": 73,
   "id": "9ec068f1",
   "metadata": {
    "execution": {
     "iopub.execute_input": "2022-11-02T19:22:02.068076Z",
     "iopub.status.busy": "2022-11-02T19:22:02.067682Z",
     "iopub.status.idle": "2022-11-02T19:22:02.083043Z",
     "shell.execute_reply": "2022-11-02T19:22:02.082560Z",
     "shell.execute_reply.started": "2022-11-02T19:22:02.068062Z"
    },
    "tags": []
   },
   "outputs": [
    {
     "name": "stdout",
     "output_type": "stream",
     "text": [
      "(Part 1: 0.001 s)\n"
     ]
    }
   ],
   "source": [
    "def process1(s):\n",
    "  instructions = [tuple(line.split(' ')) for line in s.strip('\\n').split('\\n')]\n",
    "  pc = 0\n",
    "  registers = collections.defaultdict(int)\n",
    "  sound: int | None = None\n",
    "\n",
    "  def get(value: str) -> int:\n",
    "    return registers[value] if value.isalpha() else int(value)\n",
    "\n",
    "  while True:\n",
    "    assert 0 <= pc < len(instructions)\n",
    "    operation, operand, *rest = instructions[pc]\n",
    "    if operation == 'snd':\n",
    "      assert not rest\n",
    "      sound = get(operand)\n",
    "    elif operation == 'rcv':\n",
    "      assert not rest\n",
    "      if get(operand) != 0:\n",
    "        return sound\n",
    "    elif operation == 'set':\n",
    "      registers[operand] = get(*rest)\n",
    "    elif operation == 'add':\n",
    "      registers[operand] += get(*rest)\n",
    "    elif operation == 'mul':\n",
    "      registers[operand] *= get(*rest)\n",
    "    elif operation == 'mod':\n",
    "      registers[operand] %= get(*rest)\n",
    "    elif operation == 'jgz':\n",
    "      if get(operand) > 0:\n",
    "        pc += get(*rest) - 1\n",
    "    else:\n",
    "      raise AssertionError\n",
    "    pc += 1\n",
    "\n",
    "\n",
    "check_eq(process1(s1), 4)\n",
    "puzzle.verify(1, process1)"
   ]
  },
  {
   "cell_type": "code",
   "execution_count": 74,
   "id": "217be260-2798-4889-8888-dfba5494485b",
   "metadata": {
    "execution": {
     "iopub.execute_input": "2022-11-02T19:22:02.083883Z",
     "iopub.status.busy": "2022-11-02T19:22:02.083702Z",
     "iopub.status.idle": "2022-11-02T19:22:02.194347Z",
     "shell.execute_reply": "2022-11-02T19:22:02.193776Z",
     "shell.execute_reply.started": "2022-11-02T19:22:02.083871Z"
    },
    "tags": []
   },
   "outputs": [
    {
     "name": "stdout",
     "output_type": "stream",
     "text": [
      "(Part 2: 0.094 s)\n"
     ]
    }
   ],
   "source": [
    "def process2(s):\n",
    "  instructions = [tuple(line.split(' ')) for line in s.strip('\\n').split('\\n')]\n",
    "\n",
    "  @dataclasses.dataclass\n",
    "  class Program:\n",
    "    program_id: int\n",
    "    pc: int = 0\n",
    "    registers: dict[str, int] = dataclasses.field(\n",
    "        default_factory=lambda: collections.defaultdict(int))\n",
    "    queue: collections.deque[int] = dataclasses.field(default_factory=lambda: collections.deque())\n",
    "    total_sends: int = 0\n",
    "\n",
    "    def __post_init__(self):\n",
    "      self.registers['p'] = self.program_id\n",
    "\n",
    "    def get(self, value: str) -> int:\n",
    "      return self.registers[value] if value.isalpha() else int(value)\n",
    "\n",
    "    def execute(self) -> bool:\n",
    "      if not 0 <= self.pc < len(instructions):\n",
    "        return False\n",
    "      operation, operand, *rest = instructions[self.pc]\n",
    "      if operation == 'snd':\n",
    "        assert not rest\n",
    "        other_program = programs[1 - self.program_id]\n",
    "        other_program.queue.append(self.get(operand))\n",
    "        self.total_sends += 1\n",
    "      elif operation == 'rcv':\n",
    "        assert not rest\n",
    "        if not self.queue:\n",
    "          return False\n",
    "        self.registers[operand] = self.queue.popleft()\n",
    "      elif operation == 'set':\n",
    "        self.registers[operand] = self.get(*rest)\n",
    "      elif operation == 'add':\n",
    "        self.registers[operand] += self.get(*rest)\n",
    "      elif operation == 'mul':\n",
    "        self.registers[operand] *= self.get(*rest)\n",
    "      elif operation == 'mod':\n",
    "        self.registers[operand] %= self.get(*rest)\n",
    "      elif operation == 'jgz':\n",
    "        if self.get(operand) > 0:\n",
    "          self.pc += self.get(*rest) - 1\n",
    "      else:\n",
    "        raise AssertionError\n",
    "      self.pc += 1\n",
    "      return True\n",
    "\n",
    "  programs = [Program(0), Program(1)]\n",
    "  while programs[0].execute() or programs[1].execute():\n",
    "    pass\n",
    "  return programs[1].total_sends\n",
    "\n",
    "\n",
    "check_eq(process2(s2), 3)\n",
    "puzzle.verify(2, process2)"
   ]
  },
  {
   "cell_type": "markdown",
   "id": "00b59474",
   "metadata": {},
   "source": [
    "<a name=\"day19\"></a>\n",
    "## Day 19: Follow 2D paths"
   ]
  },
  {
   "cell_type": "markdown",
   "id": "d7ee8dcd",
   "metadata": {},
   "source": [
    "- Part 1: What are the letters along the path?\n",
    "\n",
    "- Part 2: How many steps does the packet need to go?"
   ]
  },
  {
   "cell_type": "code",
   "execution_count": 75,
   "id": "84fabebf",
   "metadata": {
    "execution": {
     "iopub.execute_input": "2022-11-02T19:22:02.195248Z",
     "iopub.status.busy": "2022-11-02T19:22:02.194988Z",
     "iopub.status.idle": "2022-11-02T19:22:02.205073Z",
     "shell.execute_reply": "2022-11-02T19:22:02.204501Z",
     "shell.execute_reply.started": "2022-11-02T19:22:02.195233Z"
    },
    "tags": []
   },
   "outputs": [
    {
     "data": {
      "text/markdown": [
       "For [day 19](https://adventofcode.com/2017/day/19), `puzzle.input` has 201 lines:"
      ],
      "text/plain": [
       "<IPython.core.display.Markdown object>"
      ]
     },
     "metadata": {},
     "output_type": "display_data"
    },
    {
     "name": "stdout",
     "output_type": "stream",
     "text": [
      " |                                                                               ...                                    \n",
      " | +-----------------------------------------+         +------------------------ ... -------+ +-+           +---+       \n",
      " | |                                         |         |                         ...        | | |           |   |       \n",
      " | |                                         |   +------------------------------ ... -------+ | |           |   |       \n",
      " | |                                         |   |     |                         ...          | |           |   |       \n",
      " | |                                         |   |     |                         ... ---------|-|-----------+   |       \n",
      " | |                                         |   |     |                         ...          | |               |       \n",
      " | |                                         |   |     |                         ...  +-------|-|---------+     |       \n",
      " ...\n",
      " +--------Y--------------------------------------------------------------------- ... ---+     |                         \n",
      " |                                                                               ...          |                         \n",
      " +------------------------------------------------------------------------------ ... ---------+                         \n",
      "                                                                                 ...                                    \n"
     ]
    },
    {
     "data": {
      "text/markdown": [
       "The stored answers are: `{1: 'RYLONKEWB', 2: '16016'}`"
      ],
      "text/plain": [
       "<IPython.core.display.Markdown object>"
      ]
     },
     "metadata": {},
     "output_type": "display_data"
    }
   ],
   "source": [
    "puzzle = advent.puzzle(day=19)"
   ]
  },
  {
   "cell_type": "code",
   "execution_count": 76,
   "id": "88a7cb45-5ff7-4833-94db-42d369a8f621",
   "metadata": {
    "execution": {
     "iopub.execute_input": "2022-11-02T19:22:02.205916Z",
     "iopub.status.busy": "2022-11-02T19:22:02.205712Z",
     "iopub.status.idle": "2022-11-02T19:22:02.212876Z",
     "shell.execute_reply": "2022-11-02T19:22:02.211877Z",
     "shell.execute_reply.started": "2022-11-02T19:22:02.205902Z"
    }
   },
   "outputs": [],
   "source": [
    "s1 = \"\"\"\n",
    "     |          X\n",
    "     |  +--+    X\n",
    "     A  |  C    X\n",
    " F---|----E|--+ X\n",
    "     |  |  |  D X\n",
    "     +B-+  +--+ X\n",
    "\"\"\".replace('X', '')"
   ]
  },
  {
   "cell_type": "code",
   "execution_count": 77,
   "id": "372f03b1",
   "metadata": {
    "execution": {
     "iopub.execute_input": "2022-11-02T19:22:02.213981Z",
     "iopub.status.busy": "2022-11-02T19:22:02.213742Z",
     "iopub.status.idle": "2022-11-02T19:22:02.246176Z",
     "shell.execute_reply": "2022-11-02T19:22:02.245544Z",
     "shell.execute_reply.started": "2022-11-02T19:22:02.213965Z"
    },
    "tags": []
   },
   "outputs": [
    {
     "name": "stdout",
     "output_type": "stream",
     "text": [
      "(Part 1: 0.009 s)\n",
      "(Part 2: 0.008 s)\n"
     ]
    }
   ],
   "source": [
    "def process1(s, part2=False):\n",
    "  grid = hh.grid_from_string(s)  # shape=(201, 201).\n",
    "  grid = np.pad(grid, ((0, 1), (0, 1)), constant_values=' ')\n",
    "  (y, x), = np.argwhere(grid[:1] == '|')\n",
    "  dy, dx = 1, 0\n",
    "  letters = []\n",
    "  num_steps = 0\n",
    "\n",
    "  while True:\n",
    "    num_steps += 1\n",
    "    y, x = y + dy, x + dx\n",
    "    ch = grid[y, x]\n",
    "    if ch.isalpha():\n",
    "      letters.append(ch)\n",
    "    elif ch == '+':\n",
    "      dy, dx = dx, dy  # One of the two 90-degree rotations.\n",
    "      if grid[y + dy, x + dx] == ' ':\n",
    "        dy, dx = -dy, -dx  # The other possible 90-degree rotation.\n",
    "      if grid[y + dy, x + dx] == ' ':\n",
    "        raise AssertionError\n",
    "    elif ch == ' ':\n",
    "      return num_steps if part2 else ''.join(letters)\n",
    "    else:\n",
    "      assert ch in '|-', ch\n",
    "\n",
    "\n",
    "check_eq(process1(s1), 'ABCDEF')\n",
    "puzzle.verify(1, process1)\n",
    "\n",
    "process2 = functools.partial(process1, part2=True)\n",
    "check_eq(process2(s1), 38)\n",
    "puzzle.verify(2, process2)"
   ]
  },
  {
   "cell_type": "markdown",
   "id": "1822e34f",
   "metadata": {},
   "source": [
    "<a name=\"day20\"></a>\n",
    "## Day 20: Accelerating 3D particles"
   ]
  },
  {
   "cell_type": "markdown",
   "id": "bfbaf6de",
   "metadata": {},
   "source": [
    "- Part 1: Which particle will stay closest to position <0,0,0> in the long term?\n",
    "\n",
    "- Part 2: How many particles are left after all collisions are resolved?"
   ]
  },
  {
   "cell_type": "code",
   "execution_count": 78,
   "id": "0f49f46b",
   "metadata": {
    "execution": {
     "iopub.execute_input": "2022-11-02T19:22:02.247267Z",
     "iopub.status.busy": "2022-11-02T19:22:02.246906Z",
     "iopub.status.idle": "2022-11-02T19:22:02.259575Z",
     "shell.execute_reply": "2022-11-02T19:22:02.259056Z",
     "shell.execute_reply.started": "2022-11-02T19:22:02.247253Z"
    },
    "tags": []
   },
   "outputs": [
    {
     "data": {
      "text/markdown": [
       "For [day 20](https://adventofcode.com/2017/day/20), `puzzle.input` has 1_000 lines:"
      ],
      "text/plain": [
       "<IPython.core.display.Markdown object>"
      ]
     },
     "metadata": {},
     "output_type": "display_data"
    },
    {
     "name": "stdout",
     "output_type": "stream",
     "text": [
      "p=<-717,-4557,2578>, v=<153,21,30>, a=<-8,8,-7>\n",
      "p=<1639,651,-987>, v=<29,-19,129>, a=<-5,0,-6>\n",
      "p=<-10482,-248,-491>, v=<4,10,81>, a=<21,0,-4>\n",
      "p=<-6607,-2542,1338>, v=<-9,52,-106>, a=<14,2,4>\n",
      "p=<-4468,1178,-6474>, v=<146,44,66>, a=<0,-5,9>\n",
      "p=<1298,-3391,-2843>, v=<-44,26,113>, a=<0,6,-1>\n",
      "p=<-36,-1100,4900>, v=<62,22,56>, a=<-4,1,-15>\n",
      "p=<-357,911,-1551>, v=<-1,16,141>, a=<2,-7,-6>\n",
      " ...\n",
      "p=<1042,-1844,-1253>, v=<142,-261,-178>, a=<-14,17,10>\n",
      "p=<-2337,2080,-901>, v=<-339,301,-128>, a=<18,-22,6>\n",
      "p=<776,164,-2398>, v=<112,26,-342>, a=<-4,-3,23>\n",
      "p=<60,851,-2490>, v=<8,120,-353>, a=<0,-14,24>\n"
     ]
    },
    {
     "data": {
      "text/markdown": [
       "The stored answers are: `{1: '344', 2: '404'}`"
      ],
      "text/plain": [
       "<IPython.core.display.Markdown object>"
      ]
     },
     "metadata": {},
     "output_type": "display_data"
    }
   ],
   "source": [
    "puzzle = advent.puzzle(day=20)"
   ]
  },
  {
   "cell_type": "code",
   "execution_count": 79,
   "id": "102b8069-f845-4c22-ab1f-d7f001ba72c9",
   "metadata": {
    "execution": {
     "iopub.execute_input": "2022-11-02T19:22:02.260325Z",
     "iopub.status.busy": "2022-11-02T19:22:02.260161Z",
     "iopub.status.idle": "2022-11-02T19:22:02.272175Z",
     "shell.execute_reply": "2022-11-02T19:22:02.271563Z",
     "shell.execute_reply.started": "2022-11-02T19:22:02.260314Z"
    }
   },
   "outputs": [],
   "source": [
    "s1 = \"\"\"\n",
    "p=< 3,0,0>, v=< 2,0,0>, a=<-1,0,0>\n",
    "p=< 4,0,0>, v=< 0,0,0>, a=<-2,0,0>\n",
    "\"\"\""
   ]
  },
  {
   "cell_type": "code",
   "execution_count": 80,
   "id": "8412bb24-b018-4704-923b-50e347887c64",
   "metadata": {
    "execution": {
     "iopub.execute_input": "2022-11-02T19:22:02.273043Z",
     "iopub.status.busy": "2022-11-02T19:22:02.272892Z",
     "iopub.status.idle": "2022-11-02T19:22:02.286483Z",
     "shell.execute_reply": "2022-11-02T19:22:02.285883Z",
     "shell.execute_reply.started": "2022-11-02T19:22:02.273031Z"
    }
   },
   "outputs": [],
   "source": [
    "s2 = \"\"\"\n",
    "p=<-6,0,0>, v=< 3,0,0>, a=< 0,0,0>\n",
    "p=<-4,0,0>, v=< 2,0,0>, a=< 0,0,0>\n",
    "p=<-2,0,0>, v=< 1,0,0>, a=< 0,0,0>\n",
    "p=< 3,0,0>, v=<-1,0,0>, a=< 0,0,0>\n",
    "\"\"\""
   ]
  },
  {
   "cell_type": "code",
   "execution_count": 81,
   "id": "41d2ceaa-bd6f-41a9-bdfb-6e3bee1f0a08",
   "metadata": {
    "execution": {
     "iopub.execute_input": "2022-11-02T19:22:02.287481Z",
     "iopub.status.busy": "2022-11-02T19:22:02.287201Z",
     "iopub.status.idle": "2022-11-02T19:22:02.344965Z",
     "shell.execute_reply": "2022-11-02T19:22:02.344321Z",
     "shell.execute_reply.started": "2022-11-02T19:22:02.287465Z"
    },
    "tags": []
   },
   "outputs": [
    {
     "name": "stdout",
     "output_type": "stream",
     "text": [
      "(Part 1: 0.003 s)\n",
      "(Part 2: 0.026 s)\n"
     ]
    }
   ],
   "source": [
    "def process1(s, part2=False):\n",
    "  lines = s.strip('\\n').split('\\n')\n",
    "\n",
    "  def parse(ch: str) -> np.ndarray:\n",
    "    prog = re.compile(ch + r'=<([0-9 -]+),([0-9 -]+),([0-9 -]+)>')\n",
    "    return np.array([[int(t) for t in prog.search(line).groups()] for line in lines])\n",
    "\n",
    "  position, velocity, acceleration = (parse(ch) for ch in 'pva')\n",
    "\n",
    "  if not part2:\n",
    "    time = 1_000_000\n",
    "    position = position + velocity * time + acceleration * (time * (time + 1) // 2)\n",
    "    return np.abs(position).sum(axis=1).argmin()\n",
    "\n",
    "  for time in range(200):\n",
    "    velocity += acceleration\n",
    "    position += velocity\n",
    "    unique, index, counts = np.unique(position, axis=0, return_index=True, return_counts=True)\n",
    "    index = index[counts == 1]  # Indices of non-intersecting particles.\n",
    "    position, velocity, acceleration = position[index], velocity[index], acceleration[index]\n",
    "\n",
    "  return len(position)\n",
    "\n",
    "\n",
    "check_eq(process1(s1), 0)\n",
    "puzzle.verify(1, process1)\n",
    "\n",
    "process2 = functools.partial(process1, part2=True)\n",
    "check_eq(process2(s2), 1)\n",
    "puzzle.verify(2, process2)"
   ]
  },
  {
   "cell_type": "markdown",
   "id": "de686d55",
   "metadata": {},
   "source": [
    "<a name=\"day21\"></a>\n",
    "## Day 21: Super-resolution using rules"
   ]
  },
  {
   "cell_type": "markdown",
   "id": "53ac69d3",
   "metadata": {},
   "source": [
    "- Part 1: How many pixels stay on after 5 iterations?\n",
    "\n",
    "- Part 2: How many pixels stay on after 18 iterations?"
   ]
  },
  {
   "cell_type": "code",
   "execution_count": 82,
   "id": "45bdfd6f",
   "metadata": {
    "execution": {
     "iopub.execute_input": "2022-11-02T19:22:02.345907Z",
     "iopub.status.busy": "2022-11-02T19:22:02.345717Z",
     "iopub.status.idle": "2022-11-02T19:22:02.354826Z",
     "shell.execute_reply": "2022-11-02T19:22:02.354338Z",
     "shell.execute_reply.started": "2022-11-02T19:22:02.345892Z"
    },
    "tags": []
   },
   "outputs": [
    {
     "data": {
      "text/markdown": [
       "For [day 21](https://adventofcode.com/2017/day/21), `puzzle.input` has 108 lines:"
      ],
      "text/plain": [
       "<IPython.core.display.Markdown object>"
      ]
     },
     "metadata": {},
     "output_type": "display_data"
    },
    {
     "name": "stdout",
     "output_type": "stream",
     "text": [
      "../.. => ###/.../#..\n",
      "#./.. => #../.#./###\n",
      "##/.. => #../###/#..\n",
      ".#/#. => .#./##./#.#\n",
      "##/#. => .#./.../...\n",
      "##/## => .../#../#.#\n",
      ".../.../... => #.##/#.../..##/.##.\n",
      "#../.../... => .#../#..#/###./#.##\n",
      " ...\n",
      "#.#/###/#.# => #..#/..../####/#.##\n",
      "###/###/#.# => ####/..../.##./.#.#\n",
      "###/#.#/### => .#.#/#..#/###./.##.\n",
      "###/###/### => ##../#.##/.##./#..#\n"
     ]
    },
    {
     "data": {
      "text/markdown": [
       "The stored answers are: `{1: '152', 2: '1956174'}`"
      ],
      "text/plain": [
       "<IPython.core.display.Markdown object>"
      ]
     },
     "metadata": {},
     "output_type": "display_data"
    }
   ],
   "source": [
    "puzzle = advent.puzzle(day=21)"
   ]
  },
  {
   "cell_type": "code",
   "execution_count": 83,
   "id": "68f67ead-3e21-46de-9b26-460d826cbf3b",
   "metadata": {
    "execution": {
     "iopub.execute_input": "2022-11-02T19:22:02.355687Z",
     "iopub.status.busy": "2022-11-02T19:22:02.355413Z",
     "iopub.status.idle": "2022-11-02T19:22:02.363109Z",
     "shell.execute_reply": "2022-11-02T19:22:02.362543Z",
     "shell.execute_reply.started": "2022-11-02T19:22:02.355670Z"
    },
    "tags": []
   },
   "outputs": [],
   "source": [
    "s1 = \"\"\"\n",
    "../.# => ##./#../...\n",
    ".#./..#/### => #..#/..../..../#..#\n",
    "\"\"\""
   ]
  },
  {
   "cell_type": "code",
   "execution_count": 84,
   "id": "81903851-73df-498a-bbdc-c088b114eea4",
   "metadata": {
    "execution": {
     "iopub.execute_input": "2022-11-02T19:22:02.364193Z",
     "iopub.status.busy": "2022-11-02T19:22:02.363722Z",
     "iopub.status.idle": "2022-11-02T19:22:02.475617Z",
     "shell.execute_reply": "2022-11-02T19:22:02.474995Z",
     "shell.execute_reply.started": "2022-11-02T19:22:02.364177Z"
    },
    "tags": []
   },
   "outputs": [
    {
     "name": "stdout",
     "output_type": "stream",
     "text": [
      "(Part 1: 0.010 s)\n",
      "(Part 2: 0.084 s)\n"
     ]
    }
   ],
   "source": [
    "def process1(s, num_iterations=5, visualize=False):\n",
    "\n",
    "  def get_grid(s: str) -> np.ndarray:\n",
    "    return (np.array([list(row) for row in s.split('/')]) == '#').astype(int)\n",
    "\n",
    "  rules = {2: np.full((2**4, 3, 3), 0), 3: np.full((2**9, 4, 4), 0)}\n",
    "  for line in s.strip('\\n').split('\\n'):\n",
    "    grid_lhs, grid_rhs = map(get_grid, line.split(' => '))\n",
    "    size = grid_lhs.shape[0]\n",
    "    for _ in range(2):\n",
    "      grid_lhs = np.fliplr(grid_lhs)\n",
    "      for _ in range(4):\n",
    "        grid_lhs = np.rot90(grid_lhs)\n",
    "        encoded = grid_lhs.reshape(-1).dot(2**np.arange(size**2))\n",
    "        rules[size][encoded] = grid_rhs\n",
    "\n",
    "  grid = np.array([[0, 1, 0], [0, 0, 1], [1, 1, 1]])\n",
    "\n",
    "  grids = []\n",
    "  for index in range(num_iterations):\n",
    "    if visualize and index < 13:\n",
    "      grids.append(grid == 0)\n",
    "    n = grid.shape[0]\n",
    "    size = 2 if n % 2 == 0 else 3\n",
    "    new_size = {2: 3, 3: 4}[size]\n",
    "    m = n // size\n",
    "    new_n = m * new_size\n",
    "    grid_blocks = grid.reshape(m, size, m, size).transpose(0, 2, 1, 3).reshape(m, m, size**2)\n",
    "    encoded = grid_blocks.dot(2**np.arange(size**2))\n",
    "    new_blocks = rules[size][encoded]\n",
    "    grid = new_blocks.transpose(0, 2, 1, 3).reshape(new_n, new_n)\n",
    "\n",
    "  if visualize:\n",
    "    combined = hh.assemble_arrays(grids, (1, -1), background=True, spacing=8)\n",
    "    combined = np.pad(combined, 4, constant_values=True)\n",
    "    media.show_image(combined, border=True)\n",
    "\n",
    "  return np.sum(grid)\n",
    "\n",
    "\n",
    "check_eq(process1(s1, num_iterations=2), 12)\n",
    "puzzle.verify(1, process1)\n",
    "\n",
    "process2 = functools.partial(process1, num_iterations=18)  # grid.shape = (2187, 2187)\n",
    "puzzle.verify(2, process2)"
   ]
  },
  {
   "cell_type": "code",
   "execution_count": 85,
   "id": "9c4cf87e-fb53-437f-b21d-15a8e0c89380",
   "metadata": {
    "execution": {
     "iopub.execute_input": "2022-11-02T19:22:02.476483Z",
     "iopub.status.busy": "2022-11-02T19:22:02.476314Z",
     "iopub.status.idle": "2022-11-02T19:22:02.571345Z",
     "shell.execute_reply": "2022-11-02T19:22:02.570790Z",
     "shell.execute_reply.started": "2022-11-02T19:22:02.476470Z"
    },
    "tags": []
   },
   "outputs": [
    {
     "data": {
      "text/html": [
       "<table class=\"show_images\" style=\"border-spacing:0px;\"><tr><td style=\"padding:1px;\"><img width=\"867\" height=\"251\" style=\"border:1px solid black; image-rendering:pixelated; object-fit:cover;\" src=\"data:image/png;base64,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\"/></td></tr></table>"
      ],
      "text/plain": [
       "<IPython.core.display.HTML object>"
      ]
     },
     "metadata": {},
     "output_type": "display_data"
    }
   ],
   "source": [
    "_ = process2(puzzle.input, visualize=True)"
   ]
  },
  {
   "cell_type": "markdown",
   "id": "bda78396",
   "metadata": {},
   "source": [
    "<a name=\"day22\"></a>\n",
    "## Day 22: Turtle graphics automaton"
   ]
  },
  {
   "cell_type": "markdown",
   "id": "74e2f94e",
   "metadata": {},
   "source": [
    "- Part 1: Given your actual map, after 10000 bursts of activity, how many bursts cause a node to become infected? (Do not count nodes that begin infected.)\n",
    "\n",
    "- Part 2: With the addition of Weakened and Flagged, after 10000000 bursts of activity, how many bursts cause a node to become infected?"
   ]
  },
  {
   "cell_type": "code",
   "execution_count": 86,
   "id": "8bcda611",
   "metadata": {
    "execution": {
     "iopub.execute_input": "2022-11-02T19:22:02.572234Z",
     "iopub.status.busy": "2022-11-02T19:22:02.572053Z",
     "iopub.status.idle": "2022-11-02T19:22:02.580692Z",
     "shell.execute_reply": "2022-11-02T19:22:02.580253Z",
     "shell.execute_reply.started": "2022-11-02T19:22:02.572223Z"
    },
    "tags": []
   },
   "outputs": [
    {
     "data": {
      "text/markdown": [
       "For [day 22](https://adventofcode.com/2017/day/22), `puzzle.input` has 25 lines:"
      ],
      "text/plain": [
       "<IPython.core.display.Markdown object>"
      ]
     },
     "metadata": {},
     "output_type": "display_data"
    },
    {
     "name": "stdout",
     "output_type": "stream",
     "text": [
      "....##.#.#.#...#.##.##.#.\n",
      "##.####..###..#.#.#.###.#\n",
      ".#.#...#.##....#......###\n",
      "...#.....##.###....##.###\n",
      "#.########.#.#####..##.#.\n",
      ".#..#..#.#..#....##.#...#\n",
      ".....#.##..#.#.....##..##\n",
      "....###....###....###.#..\n",
      " ...\n",
      "#.#...#..##.###.....##.#.\n",
      "#..#.##...##.##....#...#.\n",
      "..#.#..#..#...##.#..###..\n",
      "......###....#.....#....#\n"
     ]
    },
    {
     "data": {
      "text/markdown": [
       "The stored answers are: `{1: '5570', 2: '2512022'}`"
      ],
      "text/plain": [
       "<IPython.core.display.Markdown object>"
      ]
     },
     "metadata": {},
     "output_type": "display_data"
    }
   ],
   "source": [
    "puzzle = advent.puzzle(day=22)"
   ]
  },
  {
   "cell_type": "code",
   "execution_count": 87,
   "id": "93c86d61-2fa2-42bb-8a1f-c5e364e90671",
   "metadata": {
    "execution": {
     "iopub.execute_input": "2022-11-02T19:22:02.581503Z",
     "iopub.status.busy": "2022-11-02T19:22:02.581334Z",
     "iopub.status.idle": "2022-11-02T19:22:02.589924Z",
     "shell.execute_reply": "2022-11-02T19:22:02.589354Z",
     "shell.execute_reply.started": "2022-11-02T19:22:02.581492Z"
    },
    "tags": []
   },
   "outputs": [],
   "source": [
    "s1 = \"\"\"\n",
    "..#\n",
    "#..\n",
    "...\n",
    "\"\"\""
   ]
  },
  {
   "cell_type": "code",
   "execution_count": 88,
   "id": "61728d7f-de11-4d07-9b77-bf50179c4748",
   "metadata": {
    "execution": {
     "iopub.execute_input": "2022-11-02T19:22:02.590991Z",
     "iopub.status.busy": "2022-11-02T19:22:02.590564Z",
     "iopub.status.idle": "2022-11-02T19:22:02.610585Z",
     "shell.execute_reply": "2022-11-02T19:22:02.610110Z",
     "shell.execute_reply.started": "2022-11-02T19:22:02.590977Z"
    },
    "tags": []
   },
   "outputs": [
    {
     "name": "stdout",
     "output_type": "stream",
     "text": [
      "(Part 1: 0.002 s)\n"
     ]
    }
   ],
   "source": [
    "def process1(s, num_iterations=10_000, part2=False, visualize=False):\n",
    "  initial_grid = hh.grid_from_string(s)\n",
    "  cy, cx = np.array(initial_grid.shape) // 2\n",
    "  grid = {(y - cy, x - cx): '#' for y, x in np.argwhere(initial_grid == '#')}\n",
    "  y, x = 0, 0\n",
    "  dy, dx = -1, 0  # Up direction.\n",
    "  num_newly_infected = 0\n",
    "  UPDATE = {' ': 'W', 'W': '#', '#': 'F', 'F': ' '} if part2 else {' ': '#', '#': ' '}\n",
    "  cmap = {' ': (235, 235, 235), '#': (255, 0, 0), 'W': (50, 50, 200), 'F': (0, 150, 0)}\n",
    "\n",
    "  for index in range(num_iterations):\n",
    "    state = grid.get((y, x), ' ')\n",
    "    if state == ' ':\n",
    "      dy, dx = -dx, dy  # Turn left.\n",
    "    elif state == '#':\n",
    "      dy, dx = dx, -dy  # Turn right.\n",
    "    elif state == 'F':\n",
    "      dy, dx = -dy, -dx  # Make U-turn.\n",
    "    grid[y, x] = new_state = UPDATE[state]\n",
    "    num_newly_infected += new_state == '#'\n",
    "    y, x = y + dy, x + dx\n",
    "\n",
    "  if visualize:\n",
    "    # hh.show(max(abs(x) + abs(y) for y, x in grid))  # 335\n",
    "    media.show_image(hh.image_from_yx_map(grid, background=' ', cmap=cmap))\n",
    "\n",
    "  return num_newly_infected\n",
    "\n",
    "\n",
    "check_eq(process1(s1, num_iterations=7), 5)\n",
    "check_eq(process1(s1, num_iterations=70), 41)\n",
    "check_eq(process1(s1), 5587)\n",
    "puzzle.verify(1, process1)\n",
    "\n",
    "process2 = functools.partial(process1, num_iterations=10_000_000, part2=True)\n",
    "check_eq(process2(s1, num_iterations=100), 26)\n",
    "# check_eq(process2(s1), 2_511_944)\n",
    "# puzzle.verify(2, process2)  # ~2.2 s."
   ]
  },
  {
   "cell_type": "code",
   "execution_count": 89,
   "id": "ee2d145d-d1e0-40e5-a20a-1244cb97682c",
   "metadata": {
    "execution": {
     "iopub.execute_input": "2022-11-02T19:22:02.611396Z",
     "iopub.status.busy": "2022-11-02T19:22:02.611171Z",
     "iopub.status.idle": "2022-11-02T19:22:04.980349Z",
     "shell.execute_reply": "2022-11-02T19:22:04.979566Z",
     "shell.execute_reply.started": "2022-11-02T19:22:02.611385Z"
    },
    "tags": []
   },
   "outputs": [
    {
     "data": {
      "text/html": [
       "<table class=\"show_images\" style=\"border-spacing:0px;\"><tr><td style=\"padding:1px;\"><img width=\"335\" height=\"408\" style=\"image-rendering:pixelated; object-fit:cover;\" src=\"data:image/png;base64,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\"/></td></tr></table>"
      ],
      "text/plain": [
       "<IPython.core.display.HTML object>"
      ]
     },
     "metadata": {},
     "output_type": "display_data"
    }
   ],
   "source": [
    "_ = process2(puzzle.input, visualize=True)"
   ]
  },
  {
   "cell_type": "code",
   "execution_count": 90,
   "id": "faabf896-aa6d-4990-9741-092605a0b406",
   "metadata": {
    "execution": {
     "iopub.execute_input": "2022-11-02T19:22:04.981445Z",
     "iopub.status.busy": "2022-11-02T19:22:04.981147Z",
     "iopub.status.idle": "2022-11-02T19:22:05.112265Z",
     "shell.execute_reply": "2022-11-02T19:22:05.111664Z",
     "shell.execute_reply.started": "2022-11-02T19:22:04.981428Z"
    },
    "tags": []
   },
   "outputs": [
    {
     "name": "stdout",
     "output_type": "stream",
     "text": [
      "(Part 1: 0.002 s)\n",
      "(Part 2: 0.055 s)\n"
     ]
    }
   ],
   "source": [
    "def process1(s, num_iterations=10_000, part2=False):\n",
    "  grid = hh.grid_from_string(s,  {'.': 0, '#': 1})  # Later also: {'W': 2, 'F': 3}.\n",
    "  pad = 500 if part2 else 200\n",
    "  grid = np.pad(grid, pad)\n",
    "\n",
    "  @numba_njit(cache=True)  # ~3.9 s -> ~0.05 s.\n",
    "  def compute(grid):\n",
    "    UPDATE = (2, 3, 1, 0) if part2 else (1, 0)\n",
    "    y, x = grid.shape[0] // 2, grid.shape[1] // 2\n",
    "    dy, dx = -1, 0  # Up direction.\n",
    "    num_newly_infected = 0\n",
    "    for index in range(num_iterations):\n",
    "      state = grid[y, x]\n",
    "      if state == 0:\n",
    "        dy, dx = -dx, dy  # Turn left.\n",
    "      elif state == 1:\n",
    "        dy, dx = dx, -dy  # Turn right.\n",
    "      elif state == 3:\n",
    "        dy, dx = -dy, -dx  # Make U-turn.\n",
    "      grid[y, x] = new_state = UPDATE[state]\n",
    "      num_newly_infected += new_state == 1\n",
    "      y, x = y + dy, x + dx\n",
    "    return num_newly_infected\n",
    "\n",
    "  return compute(grid)\n",
    "\n",
    "\n",
    "check_eq(process1(s1, num_iterations=7), 5)\n",
    "check_eq(process1(s1, num_iterations=70), 41)\n",
    "check_eq(process1(s1), 5587)\n",
    "puzzle.verify(1, process1)\n",
    "\n",
    "process2 = functools.partial(process1, num_iterations=10_000_000, part2=True)\n",
    "check_eq(process2(s1, num_iterations=100), 26)\n",
    "check_eq(process2(s1), 2_511_944)\n",
    "puzzle.verify(2, process2)"
   ]
  },
  {
   "cell_type": "markdown",
   "id": "db8b76cf",
   "metadata": {},
   "source": [
    "<a name=\"day23\"></a>\n",
    "## Day 23: Reverse-engineer program"
   ]
  },
  {
   "cell_type": "markdown",
   "id": "7191d0a6",
   "metadata": {},
   "source": [
    "- Part 1: If you run the program (your puzzle input), how many times is the mul instruction invoked?\n",
    "\n",
    "- Part 2: After setting register a to 1, if the program were to run to completion, what value would be left in register h?"
   ]
  },
  {
   "cell_type": "code",
   "execution_count": 91,
   "id": "e2c051bd",
   "metadata": {
    "execution": {
     "iopub.execute_input": "2022-11-02T19:22:05.113401Z",
     "iopub.status.busy": "2022-11-02T19:22:05.112929Z",
     "iopub.status.idle": "2022-11-02T19:22:05.121889Z",
     "shell.execute_reply": "2022-11-02T19:22:05.121361Z",
     "shell.execute_reply.started": "2022-11-02T19:22:05.113385Z"
    },
    "lines_to_next_cell": 1,
    "tags": []
   },
   "outputs": [
    {
     "data": {
      "text/markdown": [
       "For [day 23](https://adventofcode.com/2017/day/23), `puzzle.input` has 32 lines:"
      ],
      "text/plain": [
       "<IPython.core.display.Markdown object>"
      ]
     },
     "metadata": {},
     "output_type": "display_data"
    },
    {
     "name": "stdout",
     "output_type": "stream",
     "text": [
      "set b 93\n",
      "set c b\n",
      "jnz a 2\n",
      "jnz 1 5\n",
      "mul b 100\n",
      "sub b -100000\n",
      "set c b\n",
      "sub c -17000\n",
      " ...\n",
      "jnz g 2\n",
      "jnz 1 3\n",
      "sub b -17\n",
      "jnz 1 -23\n"
     ]
    },
    {
     "data": {
      "text/markdown": [
       "The stored answers are: `{1: '8281', 2: '911'}`"
      ],
      "text/plain": [
       "<IPython.core.display.Markdown object>"
      ]
     },
     "metadata": {},
     "output_type": "display_data"
    }
   ],
   "source": [
    "puzzle = advent.puzzle(day=23)"
   ]
  },
  {
   "cell_type": "code",
   "execution_count": 92,
   "id": "c5c94b34-1720-4c27-8fd2-0e4ff84af878",
   "metadata": {
    "execution": {
     "iopub.execute_input": "2022-11-02T19:22:05.122855Z",
     "iopub.status.busy": "2022-11-02T19:22:05.122600Z",
     "iopub.status.idle": "2022-11-02T19:22:05.150297Z",
     "shell.execute_reply": "2022-11-02T19:22:05.149663Z",
     "shell.execute_reply.started": "2022-11-02T19:22:05.122841Z"
    },
    "tags": []
   },
   "outputs": [
    {
     "name": "stdout",
     "output_type": "stream",
     "text": [
      "(Part 1: 0.015 s)\n",
      "(Part 2: 0.002 s)\n"
     ]
    }
   ],
   "source": [
    "def process1(s, part2=False):\n",
    "  instructions = [tuple(line.split(' ')) for line in s.strip('\\n').split('\\n')]\n",
    "  pc = 0\n",
    "  registers = collections.defaultdict(int)\n",
    "  num_mul = 0\n",
    "  registers['a'] = 1 if part2 else 0\n",
    "\n",
    "  def get(value: str) -> int:\n",
    "    return registers[value] if value.isalpha() else int(value)\n",
    "\n",
    "  def is_prime(n: int) -> bool:\n",
    "    return n > 1 and all(n % i != 0 for i in range(2, int(n**0.5) + 1))\n",
    "\n",
    "  while 0 <= pc < len(instructions):\n",
    "    # hh.show(pc, instructions[pc])\n",
    "    if part2 and pc == 8:\n",
    "      # Big optimization: directly compute the number of non-primes in range(b, c + 1, 17).\n",
    "      result = sum(not is_prime(i) for i in range(get('b'), get('c') + 1, 17))\n",
    "      return result\n",
    "    operation, operand, operand2 = instructions[pc]\n",
    "    if operation == 'set':\n",
    "      registers[operand] = get(operand2)\n",
    "    elif operation == 'sub':\n",
    "      registers[operand] -= get(operand2)\n",
    "    elif operation == 'mul':\n",
    "      registers[operand] *= get(operand2)\n",
    "      num_mul += 1\n",
    "    elif operation == 'jnz':\n",
    "      if get(operand) != 0:\n",
    "        pc += get(operand2) - 1\n",
    "    else:\n",
    "      raise AssertionError\n",
    "    pc += 1\n",
    "\n",
    "  return num_mul\n",
    "\n",
    "\n",
    "puzzle.verify(1, process1)\n",
    "\n",
    "process2 = functools.partial(process1, part2=True)\n",
    "puzzle.verify(2, process2)"
   ]
  },
  {
   "cell_type": "code",
   "execution_count": 93,
   "id": "d95efc77-3e80-4f74-8c43-0c5690bb5aff",
   "metadata": {
    "execution": {
     "iopub.execute_input": "2022-11-02T19:22:05.151264Z",
     "iopub.status.busy": "2022-11-02T19:22:05.151087Z",
     "iopub.status.idle": "2022-11-02T19:22:05.165334Z",
     "shell.execute_reply": "2022-11-02T19:22:05.164718Z",
     "shell.execute_reply.started": "2022-11-02T19:22:05.151250Z"
    },
    "tags": []
   },
   "outputs": [],
   "source": [
    "# print('\\n'.join(f'# L{i:02} {line:14} # ' for i, line in enumerate(puzzle.input.split('\\n'))))\n",
    "\n",
    "# L00 set b 93       # b = 93\n",
    "# L01 set c b        # c = b\n",
    "# L02 jnz a 2        # if a != 0: jmp L04\n",
    "# L03 jnz 1 5        # jmp L08\n",
    "\n",
    "# L04 mul b 100      # b *= 100\n",
    "# L05 sub b -100000  # b += 100_000\n",
    "# L06 set c b        # c = b\n",
    "# L07 sub c -17000   # c += 17_000\n",
    "\n",
    "# L08 set f 1        # f = 1\n",
    "# L09 set d 2        # d = 2\n",
    "\n",
    "# L10 set e 2        # e = 2\n",
    "\n",
    "# L11 set g d        # g = d\n",
    "# L12 mul g e        # g *= e\n",
    "# L13 sub g b        # g -= b\n",
    "# L14 jnz g 2        # if g != 0: goto L16\n",
    "# L15 set f 0        # f = 0\n",
    "\n",
    "# L16 sub e -1       # e += 1\n",
    "# L17 set g e        # g = e\n",
    "# L18 sub g b        # g -= b\n",
    "# L19 jnz g -8       # if g != 0: goto L11\n",
    "# L20 sub d -1       # d += 1\n",
    "# L21 set g d        # g = d\n",
    "# L22 sub g b        # g -= b\n",
    "# L23 jnz g -13      # if g != 0: goto L10\n",
    "# L24 jnz f 2        # if f != 0: goto L26\n",
    "# L25 sub h -1       # h += 1\n",
    "\n",
    "# L26 set g b        # g = b\n",
    "# L27 sub g c        # g -= c\n",
    "# L28 jnz g 2        # if g != 0: goto L30\n",
    "# L29 jnz 1 3        # exit\n",
    "\n",
    "# L30 sub b -17      # b += 17\n",
    "# L31 jnz 1 -23      # goto L08"
   ]
  },
  {
   "cell_type": "code",
   "execution_count": 94,
   "id": "6d834309-a041-45e5-8733-d72294bc907e",
   "metadata": {
    "execution": {
     "iopub.execute_input": "2022-11-02T19:22:05.166569Z",
     "iopub.status.busy": "2022-11-02T19:22:05.166098Z",
     "iopub.status.idle": "2022-11-02T19:22:05.183727Z",
     "shell.execute_reply": "2022-11-02T19:22:05.182982Z",
     "shell.execute_reply.started": "2022-11-02T19:22:05.166553Z"
    }
   },
   "outputs": [],
   "source": [
    "# L00 set b 93       #\n",
    "# L01 set c b        #\n",
    "# L04 mul b 100      #\n",
    "# L05 sub b -100000  # b = 109_300\n",
    "# L06 set c b        #\n",
    "# L07 sub c -17000   # c = 126_300\n",
    "\n",
    "# With a=0: b=93 c=93 num=1\n",
    "# With a=1: b=109_300 c=126_301 num=1000\n",
    "\n",
    "#                    # for b in range(b, c + 1, 17):\n",
    "# L08 set f 1        #   f = 1\n",
    "# L09 set d 2        #   d = 2\n",
    "\n",
    "# L10 set e 2        #   for e in range(2, b + 1):\n",
    "# L11 set g d        #\n",
    "# L12 mul g e        #\n",
    "# L13 sub g b        #\n",
    "# L14 jnz g 2        #     if d * e == b: f = 0   # if b % d == 0: f = 0\n",
    "# L15 set f 0        #\n",
    "# L16 sub e -1       #\n",
    "# L17 set g e        #\n",
    "# L18 sub g b        #\n",
    "# L19 jnz g -8       #\n",
    "# L20 sub d -1       #   d += 1\n",
    "# L21 set g d        #\n",
    "# L22 sub g b        #\n",
    "# L23 jnz g -13      #   if d != b: goto L10\n",
    "# L24 jnz f 2        #   if f == 0:\n",
    "# L25 sub h -1       #     h += 1\n",
    "# L26 set g b        #\n",
    "# L27 sub g c        #\n",
    "# L28 jnz g 2        #\n",
    "# L30 sub b -17      #\n",
    "# L31 jnz 1 -23      #"
   ]
  },
  {
   "cell_type": "code",
   "execution_count": 95,
   "id": "cf5efec6-a898-4920-a120-1c6d171e7292",
   "metadata": {
    "execution": {
     "iopub.execute_input": "2022-11-02T19:22:05.185115Z",
     "iopub.status.busy": "2022-11-02T19:22:05.184689Z",
     "iopub.status.idle": "2022-11-02T19:22:05.201905Z",
     "shell.execute_reply": "2022-11-02T19:22:05.201323Z",
     "shell.execute_reply.started": "2022-11-02T19:22:05.185098Z"
    }
   },
   "outputs": [],
   "source": [
    "# for b in range(b, c + 1, 17):\n",
    "#   f = 1\n",
    "#\n",
    "#   for d in range(2, b + 1):\n",
    "#     if b % d == 0: f = 0\n",
    "#\n",
    "#   if f == 0:\n",
    "#     h += 1"
   ]
  },
  {
   "cell_type": "markdown",
   "id": "3b13b642",
   "metadata": {},
   "source": [
    "<a name=\"day24\"></a>\n",
    "## Day 24: Long domino chains"
   ]
  },
  {
   "cell_type": "markdown",
   "id": "db829949",
   "metadata": {},
   "source": [
    "- Part 1: What is the strength of the strongest bridge you can make with the components you have available?\n",
    "\n",
    "- Part 2: Of all bridges of the longest possible length, what is the strength of the strongest one?"
   ]
  },
  {
   "cell_type": "code",
   "execution_count": 96,
   "id": "3644b9cf",
   "metadata": {
    "execution": {
     "iopub.execute_input": "2022-11-02T19:22:05.203061Z",
     "iopub.status.busy": "2022-11-02T19:22:05.202544Z",
     "iopub.status.idle": "2022-11-02T19:22:05.222814Z",
     "shell.execute_reply": "2022-11-02T19:22:05.222263Z",
     "shell.execute_reply.started": "2022-11-02T19:22:05.203042Z"
    },
    "tags": []
   },
   "outputs": [
    {
     "data": {
      "text/markdown": [
       "For [day 24](https://adventofcode.com/2017/day/24), `puzzle.input` has 57 lines:"
      ],
      "text/plain": [
       "<IPython.core.display.Markdown object>"
      ]
     },
     "metadata": {},
     "output_type": "display_data"
    },
    {
     "name": "stdout",
     "output_type": "stream",
     "text": [
      "14/42\n",
      "2/3\n",
      "6/44\n",
      "4/10\n",
      "23/49\n",
      "35/39\n",
      "46/46\n",
      "5/29\n",
      " ...\n",
      "48/10\n",
      "28/28\n",
      "2/13\n",
      "48/14\n"
     ]
    },
    {
     "data": {
      "text/markdown": [
       "The stored answers are: `{1: '1695', 2: '1673'}`"
      ],
      "text/plain": [
       "<IPython.core.display.Markdown object>"
      ]
     },
     "metadata": {},
     "output_type": "display_data"
    }
   ],
   "source": [
    "puzzle = advent.puzzle(day=24)"
   ]
  },
  {
   "cell_type": "code",
   "execution_count": 97,
   "id": "524d150c-c794-4313-8b17-489753ba373e",
   "metadata": {
    "execution": {
     "iopub.execute_input": "2022-11-02T19:22:05.224008Z",
     "iopub.status.busy": "2022-11-02T19:22:05.223512Z",
     "iopub.status.idle": "2022-11-02T19:22:05.230520Z",
     "shell.execute_reply": "2022-11-02T19:22:05.229898Z",
     "shell.execute_reply.started": "2022-11-02T19:22:05.223991Z"
    },
    "tags": []
   },
   "outputs": [],
   "source": [
    "s1 = \"\"\"\n",
    "0/2\n",
    "2/2\n",
    "2/3\n",
    "3/4\n",
    "3/5\n",
    "0/1\n",
    "10/1\n",
    "9/10\n",
    "\"\"\""
   ]
  },
  {
   "cell_type": "code",
   "execution_count": 98,
   "id": "8ea5fd80",
   "metadata": {
    "execution": {
     "iopub.execute_input": "2022-11-02T19:22:05.231828Z",
     "iopub.status.busy": "2022-11-02T19:22:05.231337Z",
     "iopub.status.idle": "2022-11-02T19:22:07.662210Z",
     "shell.execute_reply": "2022-11-02T19:22:07.661552Z",
     "shell.execute_reply.started": "2022-11-02T19:22:05.231814Z"
    },
    "tags": []
   },
   "outputs": [
    {
     "name": "stdout",
     "output_type": "stream",
     "text": [
      "(Part 1: 0.799 s)\n",
      "(Part 2: 1.615 s)\n"
     ]
    }
   ],
   "source": [
    "def process1(s, start=0, part2=False):  # Slower, creating list of updated remaining components.\n",
    "  components = [tuple(map(int, line.split('/'))) for line in s.strip('\\n').split('\\n')]\n",
    "  check_eq(len(components), len(set(components)))  # In fact, they are all unique.\n",
    "\n",
    "  def compatible_components(start: int, components: list[tuple[int, int]]):\n",
    "    for i, (v0, v1) in enumerate(components):\n",
    "      if v1 == start:\n",
    "        v1 = v0\n",
    "      elif v0 != start:\n",
    "        continue\n",
    "      remaining = components[:i] + components[i + 1:]\n",
    "      yield v1, remaining\n",
    "\n",
    "  def compute_strongest(v0: int, components: list[tuple[int, int]]) -> int:\n",
    "    max_strength = 0\n",
    "    for v1, remaining in compatible_components(v0, components):\n",
    "      max_strength = max(max_strength, v0 + v1 + compute_strongest(v1, remaining))\n",
    "    return max_strength\n",
    "\n",
    "  if not part2:\n",
    "    return compute_strongest(start, components)\n",
    "\n",
    "  def compute_longest_length(v0: int, components: list[tuple[int, int]]) -> int:\n",
    "    max_length = 0\n",
    "    for v1, remaining in compatible_components(v0, components):\n",
    "      max_length = max(max_length, 1 + compute_longest_length(v1, remaining))\n",
    "    return max_length\n",
    "\n",
    "  def compute_longest(v0: int, remaining_length: int, components: list[tuple[int, int]]) -> int:\n",
    "    max_strength = 0 if remaining_length == 0 else -10_000\n",
    "    for v1, remaining in compatible_components(v0, components):\n",
    "      max_strength = max(\n",
    "          max_strength, v0 + v1 + compute_longest(v1, remaining_length - 1, remaining))\n",
    "    return max_strength\n",
    "\n",
    "  longest_length = compute_longest_length(start, components)\n",
    "  return compute_longest(start, longest_length, components)\n",
    "\n",
    "\n",
    "check_eq(process1(s1), 31)\n",
    "puzzle.verify(1, process1)\n",
    "\n",
    "process2 = functools.partial(process1, part2=True)\n",
    "check_eq(process2(s1), 19)\n",
    "puzzle.verify(2, process2)"
   ]
  },
  {
   "cell_type": "code",
   "execution_count": 99,
   "id": "54d085fe-5fc6-4837-bd24-e479f1a1a841",
   "metadata": {
    "execution": {
     "iopub.execute_input": "2022-11-02T19:22:07.663103Z",
     "iopub.status.busy": "2022-11-02T19:22:07.662885Z",
     "iopub.status.idle": "2022-11-02T19:22:08.386644Z",
     "shell.execute_reply": "2022-11-02T19:22:08.386131Z",
     "shell.execute_reply.started": "2022-11-02T19:22:07.663088Z"
    },
    "tags": []
   },
   "outputs": [
    {
     "name": "stdout",
     "output_type": "stream",
     "text": [
      "(Part 1: 0.241 s)\n",
      "(Part 2: 0.476 s)\n"
     ]
    }
   ],
   "source": [
    "def process1(s, start=0, part2=False):  # Faster, with side effects on sets of remaining components.\n",
    "  components = [tuple(map(int, line.split('/'))) for line in s.strip('\\n').split('\\n')]\n",
    "  max_v = max(max(v0, v1) for v0, v1 in components)\n",
    "  active_from_v = [set() for v in range(max_v + 1)]\n",
    "  for v0, v1 in components:\n",
    "    active_from_v[v0].add(v1)\n",
    "    if v1 != v0:\n",
    "      active_from_v[v1].add(v0)\n",
    "\n",
    "  def compatible_components(v0: int) -> Iterator[int]:\n",
    "    set_v0 = active_from_v[v0]\n",
    "    for v1 in list(set_v0):\n",
    "      if v1 != v0:\n",
    "        set_v1 = active_from_v[v1]\n",
    "        set_v0.remove(v1), set_v1.remove(v0)\n",
    "        yield v1\n",
    "        set_v1.add(v0), set_v0.add(v1)\n",
    "      else:\n",
    "        set_v0.remove(v1)\n",
    "        yield v1\n",
    "        set_v0.add(v1)\n",
    "\n",
    "  def compute_strongest(v0: int) -> int:\n",
    "    max_strength = 0\n",
    "    for v1 in compatible_components(v0):\n",
    "      max_strength = max(max_strength, v0 + v1 + compute_strongest(v1))\n",
    "    return max_strength\n",
    "\n",
    "  if not part2:\n",
    "    return compute_strongest(start)\n",
    "\n",
    "  def compute_longest_length(v0: int) -> int:\n",
    "    max_length = 0\n",
    "    for v1 in compatible_components(v0):\n",
    "      max_length = max(max_length, 1 + compute_longest_length(v1))\n",
    "    return max_length\n",
    "\n",
    "  def compute_longest(v0: int, remaining_length: int) -> int:\n",
    "    max_strength = 0 if remaining_length == 0 else -10_000\n",
    "    for v1 in compatible_components(v0):\n",
    "      max_strength = max(max_strength, v0 + v1 + compute_longest(v1, remaining_length - 1))\n",
    "    return max_strength\n",
    "\n",
    "  longest_length = compute_longest_length(start)  # 36\n",
    "  return compute_longest(start, longest_length)\n",
    "\n",
    "\n",
    "check_eq(process1(s1), 31)\n",
    "puzzle.verify(1, process1)\n",
    "\n",
    "process2 = functools.partial(process1, part2=True)\n",
    "check_eq(process2(s1), 19)\n",
    "puzzle.verify(2, process2)"
   ]
  },
  {
   "cell_type": "markdown",
   "id": "6d07c79a",
   "metadata": {},
   "source": [
    "<a name=\"day25\"></a>\n",
    "## Day 25: Turing machine"
   ]
  },
  {
   "cell_type": "markdown",
   "id": "7e6ac471",
   "metadata": {},
   "source": [
    "- Part 1: After the specified number of steps have been executed, count the number of times 1 appears on the tape.\n",
    "\n",
    "- Part 2: None on day 25."
   ]
  },
  {
   "cell_type": "code",
   "execution_count": 100,
   "id": "fecb91cd",
   "metadata": {
    "execution": {
     "iopub.execute_input": "2022-11-02T19:22:08.387370Z",
     "iopub.status.busy": "2022-11-02T19:22:08.387235Z",
     "iopub.status.idle": "2022-11-02T19:22:08.395524Z",
     "shell.execute_reply": "2022-11-02T19:22:08.394995Z",
     "shell.execute_reply.started": "2022-11-02T19:22:08.387358Z"
    },
    "tags": []
   },
   "outputs": [
    {
     "data": {
      "text/markdown": [
       "For [day 25](https://adventofcode.com/2017/day/25), `puzzle.input` has 62 lines:"
      ],
      "text/plain": [
       "<IPython.core.display.Markdown object>"
      ]
     },
     "metadata": {},
     "output_type": "display_data"
    },
    {
     "name": "stdout",
     "output_type": "stream",
     "text": [
      "Begin in state A.\n",
      "Perform a diagnostic checksum after 12208951 steps.\n",
      "\n",
      "In state A:\n",
      "  If the current value is 0:\n",
      "    - Write the value 1.\n",
      "    - Move one slot to the right.\n",
      "    - Continue with state B.\n",
      " ...\n",
      "  If the current value is 1:\n",
      "    - Write the value 1.\n",
      "    - Move one slot to the right.\n",
      "    - Continue with state A.\n"
     ]
    },
    {
     "data": {
      "text/markdown": [
       "The stored answers are: `{1: '4387', 2: ''}`"
      ],
      "text/plain": [
       "<IPython.core.display.Markdown object>"
      ]
     },
     "metadata": {},
     "output_type": "display_data"
    }
   ],
   "source": [
    "puzzle = advent.puzzle(day=25)"
   ]
  },
  {
   "cell_type": "code",
   "execution_count": 101,
   "id": "d13f5d57-aa83-480d-9703-17a20eb4ffe8",
   "metadata": {
    "execution": {
     "iopub.execute_input": "2022-11-02T19:22:08.396462Z",
     "iopub.status.busy": "2022-11-02T19:22:08.396192Z",
     "iopub.status.idle": "2022-11-02T19:22:08.405134Z",
     "shell.execute_reply": "2022-11-02T19:22:08.404581Z",
     "shell.execute_reply.started": "2022-11-02T19:22:08.396446Z"
    },
    "tags": []
   },
   "outputs": [],
   "source": [
    "s1 = \"\"\"\n",
    "Begin in state A.\n",
    "Perform a diagnostic checksum after 6 steps.\n",
    "\n",
    "In state A:\n",
    "  If the current value is 0:\n",
    "    - Write the value 1.\n",
    "    - Move one slot to the right.\n",
    "    - Continue with state B.\n",
    "  If the current value is 1:\n",
    "    - Write the value 0.\n",
    "    - Move one slot to the left.\n",
    "    - Continue with state B.\n",
    "\n",
    "In state B:\n",
    "  If the current value is 0:\n",
    "    - Write the value 1.\n",
    "    - Move one slot to the left.\n",
    "    - Continue with state A.\n",
    "  If the current value is 1:\n",
    "    - Write the value 1.\n",
    "    - Move one slot to the right.\n",
    "    - Continue with state A.\n",
    "\"\"\""
   ]
  },
  {
   "cell_type": "code",
   "execution_count": 102,
   "id": "7270c555-ccb1-47d0-8b19-2b24e95939a9",
   "metadata": {
    "execution": {
     "iopub.execute_input": "2022-11-02T19:22:08.405990Z",
     "iopub.status.busy": "2022-11-02T19:22:08.405754Z",
     "iopub.status.idle": "2022-11-02T19:22:09.612570Z",
     "shell.execute_reply": "2022-11-02T19:22:09.611962Z",
     "shell.execute_reply.started": "2022-11-02T19:22:08.405977Z"
    },
    "tags": []
   },
   "outputs": [
    {
     "name": "stdout",
     "output_type": "stream",
     "text": [
      "(Part 1: 1.188 s)\n"
     ]
    }
   ],
   "source": [
    "def process1(s):  # Slow version using dicts and Python.\n",
    "  parts = s.strip('\\n').split('\\n\\n')\n",
    "  state, s_steps = re.match(r'(?s)Begin in state (.+)\\..* after (.+) steps', parts[0]).groups()\n",
    "  num_steps = int(s_steps)\n",
    "  logic = {}\n",
    "  for part in parts[1:]:\n",
    "    current, = re.match(r'In state (.+):', part).groups()\n",
    "    conditions = part.split('If the current ')[1:]\n",
    "    assert len(conditions) == 2\n",
    "    for condition in conditions:\n",
    "      pattern = r'(?s)value is (.+):.*Write the value (.+)\\..*to the (.+)\\..* state (.+)\\.'\n",
    "      condition_state, s_write_value, s_move, next_state = re.match(pattern, condition).groups()\n",
    "      logic[current, int(condition_state)] = (\n",
    "          int(s_write_value), {'left': -1, 'right': +1}[s_move], next_state)\n",
    "\n",
    "  tape = collections.defaultdict(int)\n",
    "  pos = 0\n",
    "  for index in range(num_steps):\n",
    "    write_value, move, state = logic[state, tape[pos]]\n",
    "    tape[pos] = write_value\n",
    "    pos += move\n",
    "\n",
    "  # hh.Stats(record_pos) = ( 12_208_951)        -6960 : 28           av=-3000.24     sd=3422.89\n",
    "  return sum(tape.values())\n",
    "\n",
    "\n",
    "check_eq(process1(s1), 3)\n",
    "puzzle.verify(1, process1)  # ~1.1 s."
   ]
  },
  {
   "cell_type": "code",
   "execution_count": 103,
   "id": "7cbff2e5-214e-432e-b99e-55d1723afb08",
   "metadata": {
    "execution": {
     "iopub.execute_input": "2022-11-02T19:22:09.613458Z",
     "iopub.status.busy": "2022-11-02T19:22:09.613195Z",
     "iopub.status.idle": "2022-11-02T19:22:09.673839Z",
     "shell.execute_reply": "2022-11-02T19:22:09.673251Z",
     "shell.execute_reply.started": "2022-11-02T19:22:09.613445Z"
    },
    "tags": []
   },
   "outputs": [
    {
     "name": "stdout",
     "output_type": "stream",
     "text": [
      "(Part 1: 0.051 s)\n"
     ]
    }
   ],
   "source": [
    "def process1(s, size=100_000):  # Fast version using integer arrays and jitted numba.\n",
    "  parts = s.strip('\\n').split('\\n\\n')\n",
    "  s_state, s_steps = re.match(r'(?s)Begin in state (.+)\\..* after (.+) steps', parts[0]).groups()\n",
    "  state, num_steps = ord(s_state) - ord('A'), int(s_steps)\n",
    "\n",
    "  logic_lines: list[tuple[int, int, int]] = []  # (write_value, move, next_state)\n",
    "  for part in parts[1:]:\n",
    "    for condition in part.split('If the current ')[1:]:\n",
    "      pattern = r'(?s)Write the value (.+)\\..*to the (.+)\\..* state (.+)\\.'\n",
    "      s_write_value, s_move, s_next_state = re.search(pattern, condition).groups()\n",
    "      logic_lines.append(\n",
    "          (int(s_write_value), {'left': -1, 'right': +1}[s_move], ord(s_next_state) - ord('A')))\n",
    "  logic = np.array(logic_lines)\n",
    "\n",
    "  @numba_njit(cache=True)  # ~10.5 s -> 0.05 s.\n",
    "  def compute(state):\n",
    "    tape = np.full(size, 0)\n",
    "    pos = size // 2\n",
    "    for index in range(num_steps):\n",
    "      write_value, move, state = logic[state * 2 + tape[pos]]\n",
    "      tape[pos] = write_value\n",
    "      pos += move\n",
    "    return np.sum(tape)\n",
    "\n",
    "  return compute(state)\n",
    "\n",
    "\n",
    "check_eq(process1(s1), 3)\n",
    "puzzle.verify(1, process1)"
   ]
  },
  {
   "cell_type": "markdown",
   "id": "c0ec51f2-be70-4684-b989-1342d9897d9a",
   "metadata": {
    "execution": {
     "iopub.execute_input": "2022-11-01T15:58:46.777709Z",
     "iopub.status.busy": "2022-11-01T15:58:46.777342Z",
     "iopub.status.idle": "2022-11-01T15:58:50.481812Z",
     "shell.execute_reply": "2022-11-01T15:58:50.481213Z",
     "shell.execute_reply.started": "2022-11-01T15:58:46.777695Z"
    },
    "tags": []
   },
   "source": [
    "You deposit all fifty stars and reboot the printer. Suddenly, everything seems a lot less pixelated than before.\"--raise your priority level enough to send the reboot command and... hey look, it's printing! I'll bring it to Santa. Thanks!\" She runs off.\n",
    "Congratulations!  You've finished every puzzle in Advent of Code 2017!  I hope you had as much fun solving them as I had making them for you.  I'd love to hear about your adventure; you can get in touch with me via contact info on my website or through Twitter.\n",
    "If you'd like to see more things like this in the future, please consider supporting Advent of Code and sharing it with others.\n",
    "To hear about future projects, you can follow me on Twitter.\n",
    "I've highlighted the easter eggs in each puzzle, just in case you missed any.  Hover your mouse over them, and the easter egg will appear."
   ]
  },
  {
   "cell_type": "code",
   "execution_count": 104,
   "id": "fb457dcf",
   "metadata": {
    "execution": {
     "iopub.execute_input": "2022-11-02T19:22:09.674879Z",
     "iopub.status.busy": "2022-11-02T19:22:09.674574Z",
     "iopub.status.idle": "2022-11-02T19:22:09.678133Z",
     "shell.execute_reply": "2022-11-02T19:22:09.677600Z",
     "shell.execute_reply.started": "2022-11-02T19:22:09.674866Z"
    },
    "lines_to_next_cell": 2,
    "tags": []
   },
   "outputs": [
    {
     "name": "stdout",
     "output_type": "stream",
     "text": [
      "(Part 2: 0.000 s)\n"
     ]
    }
   ],
   "source": [
    "puzzle.verify(2, lambda s: '')  # (No \"Part 2\" on last day.)\n",
    "# (aocd does not allow a blank answer; the answer is not submitted)"
   ]
  },
  {
   "cell_type": "markdown",
   "id": "1f72dc26",
   "metadata": {},
   "source": [
    "<a name=\"timings\"></a>\n",
    "## Timings"
   ]
  },
  {
   "cell_type": "code",
   "execution_count": 105,
   "id": "6ba60491",
   "metadata": {
    "execution": {
     "iopub.execute_input": "2022-11-02T19:22:09.679016Z",
     "iopub.status.busy": "2022-11-02T19:22:09.678748Z",
     "iopub.status.idle": "2022-11-02T19:22:09.693251Z",
     "shell.execute_reply": "2022-11-02T19:22:09.692415Z",
     "shell.execute_reply.started": "2022-11-02T19:22:09.679002Z"
    }
   },
   "outputs": [
    {
     "name": "stdout",
     "output_type": "stream",
     "text": [
      "day_1    part_1: 0.000   part_2: 0.000\n",
      "day_2    part_1: 0.000   part_2: 0.000\n",
      "day_3    part_1: 0.000   part_2: 0.000\n",
      "day_4    part_1: 0.000   part_2: 0.001\n",
      "day_5    part_1: 0.002   part_2: 0.030\n",
      "day_6    part_1: 0.012   part_2: 0.011\n",
      "day_7    part_1: 0.064   part_2: 0.010\n",
      "day_8    part_1: 0.001   part_2: 0.001\n",
      "day_9    part_1: 0.002   part_2: 0.001\n",
      "day_10   part_1: 0.000   part_2: 0.007\n",
      "day_11   part_1: 0.002   part_2: 0.002\n",
      "day_12   part_1: 0.005   part_2: 0.003\n",
      "day_13   part_1: 0.001   part_2: 0.005\n",
      "day_14   part_1: 0.256   part_2: 0.281\n",
      "day_15   part_1: 0.141   part_2: 0.208\n",
      "day_16   part_1: 0.009   part_2: 0.008\n",
      "day_17   part_1: 0.006   part_2: 0.158\n",
      "day_18   part_1: 0.001   part_2: 0.094\n",
      "day_19   part_1: 0.009   part_2: 0.008\n",
      "day_20   part_1: 0.003   part_2: 0.026\n",
      "day_21   part_1: 0.010   part_2: 0.084\n",
      "day_22   part_1: 0.002   part_2: 0.055\n",
      "day_23   part_1: 0.015   part_2: 0.002\n",
      "day_24   part_1: 0.241   part_2: 0.476\n",
      "day_25   part_1: 0.051   part_2: 0.000\n",
      "Total time:  2.306 s\n"
     ]
    }
   ],
   "source": [
    "advent.show_times()"
   ]
  },
  {
   "cell_type": "code",
   "execution_count": 106,
   "id": "10984b69",
   "metadata": {
    "execution": {
     "iopub.execute_input": "2022-11-02T19:22:09.694506Z",
     "iopub.status.busy": "2022-11-02T19:22:09.694172Z",
     "iopub.status.idle": "2022-11-02T19:22:09.713953Z",
     "shell.execute_reply": "2022-11-02T19:22:09.713324Z",
     "shell.execute_reply.started": "2022-11-02T19:22:09.694491Z"
    }
   },
   "outputs": [],
   "source": [
    "if 0:  # Compute min execution times over several calls.\n",
    "  advent.show_times(recompute=True, repeat=3)"
   ]
  },
  {
   "cell_type": "code",
   "execution_count": 107,
   "id": "2703a2e8",
   "metadata": {
    "execution": {
     "iopub.execute_input": "2022-11-02T19:22:09.715181Z",
     "iopub.status.busy": "2022-11-02T19:22:09.714731Z",
     "iopub.status.idle": "2022-11-02T19:22:09.729147Z",
     "shell.execute_reply": "2022-11-02T19:22:09.728613Z",
     "shell.execute_reply.started": "2022-11-02T19:22:09.715161Z"
    },
    "tags": []
   },
   "outputs": [
    {
     "name": "stdout",
     "output_type": "stream",
     "text": [
      "puzzle process1 process2 s1 s2 spiral_yx\n"
     ]
    }
   ],
   "source": [
    "if 1:  # Look for unwanted pollution of namespace.\n",
    "  print(textwrap.fill(' '.join(var for var, value in globals().items() if not (\n",
    "      var.startswith('_') or var in _ORIGINAL_GLOBALS))))"
   ]
  },
  {
   "cell_type": "code",
   "execution_count": 108,
   "id": "92ae966f",
   "metadata": {
    "execution": {
     "iopub.execute_input": "2022-11-02T19:22:09.730154Z",
     "iopub.status.busy": "2022-11-02T19:22:09.729973Z",
     "iopub.status.idle": "2022-11-02T19:22:09.743791Z",
     "shell.execute_reply": "2022-11-02T19:22:09.743050Z",
     "shell.execute_reply.started": "2022-11-02T19:22:09.730139Z"
    },
    "tags": []
   },
   "outputs": [],
   "source": [
    "if 0:  # Save puzzle inputs and answers to a compressed archive for downloading.\n",
    "  # Create a new tar.gz file.\n",
    "  hh.run(f\"\"\"cd /mnt/c/hh/tmp && cp -rp ~/.config/aocd/'{PROFILE.replace(\"_\", \" \")}' '{PROFILE}' && tar -czf '{PROFILE}.tar.gz' '{PROFILE}'\"\"\")"
   ]
  },
  {
   "cell_type": "code",
   "execution_count": 109,
   "id": "c9c34d45",
   "metadata": {
    "execution": {
     "iopub.execute_input": "2022-11-02T19:22:09.745044Z",
     "iopub.status.busy": "2022-11-02T19:22:09.744545Z",
     "iopub.status.idle": "2022-11-02T19:22:09.760097Z",
     "shell.execute_reply": "2022-11-02T19:22:09.759472Z",
     "shell.execute_reply.started": "2022-11-02T19:22:09.745016Z"
    }
   },
   "outputs": [
    {
     "name": "stdout",
     "output_type": "stream",
     "text": [
      "# Total time: 11.90 s\n",
      "# In[ 98] def process1(s, start=0, part2=False):  # Slower, creating   2.425 s\n",
      "# In[ 89] _ = process2(puzzle.input, visualize=True)                   2.365 s\n",
      "# In[102] def process1(s):  # Slow version using dicts and Python.\\n   1.203 s\n",
      "# In[ 60] def process1(s, part2=False, visualize=False):\\n  s = s.     1.070 s\n",
      "# In[ 64] def process1(s, part2=False):\\n  state0, state1 = (int(      0.719 s\n",
      "# In[ 99] def process1(s, start=0, part2=False):  # Faster, with       0.719 s\n",
      "# In[ 56] def process2(s, chunk=3_000):  # Use numpy vectorized over   0.560 s\n",
      "# In[ 57] def process2(s, chunk=80_000):  # Use numpy sieve,           0.404 s\n",
      "# In[ 61] _ = process1(puzzle.input, visualize=True)                   0.271 s\n",
      "# In[ 31] def process1(s, part2=False):  # Fast.\\n  values = np.       0.179 s\n",
      "# In[ 69] def process1(s, part2=False):\\n  step = int(s.strip('\\\\n'))  0.177 s\n",
      "# In[ 90] def process1(s, num_iterations=10_000, part2=False):\\n       0.125 s\n",
      "# In[  9] try:\\n  import numba\\n  numba_njit = numba.njit\\nexcept      0.118 s\n",
      "# In[ 84] def process1(s, num_iterations=5, visualize=False):\\n\\n      0.107 s\n",
      "# In[ 74] def process2(s):\\n  instructions = [tuple(line.split(' '))   0.106 s\n",
      "# In[ 85] _ = process2(puzzle.input, visualize=True)                   0.093 s\n",
      "# In[ 37] def process1(s, part2=False):\\n  prog = re.compile(r'([a-z]  0.086 s\n",
      "# In[103] def process1(s, size=100_000):  # Fast version using         0.057 s\n",
      "# In[ 81] def process1(s, part2=False):\\n  lines = s.strip('\\\\n').     0.053 s\n",
      "# In[ 30] def process1(s, part2=False):  # Slow.\\n  values = [int(s2)  0.046 s\n"
     ]
    }
   ],
   "source": [
    "hh.show_notebook_cell_top_times()"
   ]
  },
  {
   "cell_type": "markdown",
   "id": "28fe83d2",
   "metadata": {},
   "source": [
    "# End"
   ]
  },
  {
   "cell_type": "code",
   "execution_count": 110,
   "id": "ecd98013",
   "metadata": {
    "execution": {
     "iopub.execute_input": "2022-11-02T19:22:09.761159Z",
     "iopub.status.busy": "2022-11-02T19:22:09.760815Z",
     "iopub.status.idle": "2022-11-02T19:22:09.776059Z",
     "shell.execute_reply": "2022-11-02T19:22:09.775420Z",
     "shell.execute_reply.started": "2022-11-02T19:22:09.761142Z"
    }
   },
   "outputs": [],
   "source": [
    "def process1(s, part2=False):\n",
    "  grid = np.array([[int(c) for c in line] for line in s.strip().split('\\n')])\n",
    "  for line in s.strip('\\n').split('\\n'):\n",
    "    pass\n",
    "\n",
    "  return None\n",
    "\n",
    "# check_eq(process1(s1), 17)\n",
    "# puzzle.verify(1, process1)\n",
    "\n",
    "# process2 = functools.partial(process1, part2=True)\n",
    "# check_eq(process1(s1), 18)\n",
    "# puzzle.verify(2, process2)"
   ]
  },
  {
   "cell_type": "markdown",
   "id": "19e4e1b2",
   "metadata": {},
   "source": [
    "[[Open the notebook in mybinder.org]](https://mybinder.org/v2/gh/hhoppe/advent_of_code_2017/main?filepath=advent_of_code_2017.ipynb)\n",
    "\n",
    "Currently there are problems in using `numba` within `mybinder.org`\n",
    "(i.e., after `pip install numba`):\n",
    "- `numpy` requires older `numba==0.51.2`\n",
    "- `njit(cache=True)` fails at runtime, for unknown reason."
   ]
  },
  {
   "cell_type": "markdown",
   "id": "cbdb45a1",
   "metadata": {},
   "source": [
    "<!-- For Emacs:\n",
    "Local Variables:\n",
    "fill-column: 80\n",
    "End:\n",
    "-->"
   ]
  }
 ],
 "metadata": {
  "colab": {
   "collapsed_sections": [],
   "provenance": [],
   "toc_visible": true
  },
  "jupytext": {
   "cell_metadata_filter": "-all",
   "formats": "ipynb,py:percent",
   "main_language": "python",
   "notebook_metadata_filter": "-all"
  },
  "kernelspec": {
   "display_name": "Python 3 (ipykernel)",
   "language": "python",
   "name": "python3"
  },
  "language_info": {
   "codemirror_mode": {
    "name": "ipython",
    "version": 3
   },
   "file_extension": ".py",
   "mimetype": "text/x-python",
   "name": "python",
   "nbconvert_exporter": "python",
   "pygments_lexer": "ipython3",
   "version": "3.10.4"
  }
 },
 "nbformat": 4,
 "nbformat_minor": 5
}
